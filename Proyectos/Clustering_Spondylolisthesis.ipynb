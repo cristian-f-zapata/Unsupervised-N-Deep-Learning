{
 "cells": [
  {
   "cell_type": "markdown",
   "id": "4c8574a6",
   "metadata": {},
   "source": [
    "   # **BIOMECÁNICA DE PACIENTES ORTOPÉDICOS**\n",
    "## Cristian F. Zapata y Belky Alejandra"
   ]
  },
  {
   "cell_type": "markdown",
   "id": "2d83bb81",
   "metadata": {},
   "source": [
    "![](https://cdn.gallerix.asia/x/src/news/2012/da-vinci-anatomy-drawing.jpg)"
   ]
  },
  {
   "cell_type": "markdown",
   "id": "f80b204f",
   "metadata": {},
   "source": [
    "## Importamos librerías importantes"
   ]
  },
  {
   "cell_type": "code",
   "execution_count": 1,
   "id": "c0c204df-394a-4abc-8065-828a15c029e1",
   "metadata": {},
   "outputs": [
    {
     "data": {
      "text/html": [
       "\n",
       "    <button type=\"button\" id=\"col\" onclick=\"code_toggle('col')\">Codigo</button>\n",
       "    <script>\n",
       "    function code_toggle(my_id) {\n",
       "        // get the parent element for the cell code and output\n",
       "        var p = $(\"#\"+my_id);\n",
       "        if (p.length==0) return;\n",
       "        while (!p.hasClass(\"cell\")) {\n",
       "            p = p.parent();\n",
       "            if (p.prop(\"tagName\") ==\"body\") return;\n",
       "        }\n",
       "    // get the cell code and toggle its value\n",
       "    var cell_code = p.find(\".input\");\n",
       "    cell_code.toggle();\n",
       "    }\n",
       "    </script>\n",
       "    "
      ]
     },
     "metadata": {},
     "output_type": "display_data"
    }
   ],
   "source": [
    "def toggle_cell_code(button_id):\n",
    "    \"\"\"\n",
    "    Adds a button to toggle (show/hide) the code cell but not the output. \n",
    "    \n",
    "    Parameters\n",
    "    ----------\n",
    "    button_id : str\n",
    "        An identifier for cells that will hide/show when button is pressed.\n",
    "    \"\"\"\n",
    "    \n",
    "    from IPython.display import display_html\n",
    "    my_html = '''\n",
    "    <button type=\"button\" id=\"%s\" onclick=\"code_toggle('%s')\">Codigo</button>\n",
    "    <script>\n",
    "    function code_toggle(my_id) {\n",
    "        // get the parent element for the cell code and output\n",
    "        var p = $(\"#\"+my_id);\n",
    "        if (p.length==0) return;\n",
    "        while (!p.hasClass(\"cell\")) {\n",
    "            p = p.parent();\n",
    "            if (p.prop(\"tagName\") ==\"body\") return;\n",
    "        }\n",
    "    // get the cell code and toggle its value\n",
    "    var cell_code = p.find(\".input\");\n",
    "    cell_code.toggle();\n",
    "    }\n",
    "    </script>\n",
    "    ''' %(button_id, button_id)\n",
    "    return display_html(my_html, raw=True)\n",
    "\n",
    "\n",
    "toggle_cell_code('col')\n",
    "def warn(*args, **kwargs):\n",
    "    pass\n",
    "import warnings\n",
    "warnings.warn = warn\n",
    "\n",
    "\n",
    "import pandas as pd\n",
    "import numpy as np\n",
    "import matplotlib.pyplot as plt\n",
    "\n",
    "\n"
   ]
  },
  {
   "cell_type": "markdown",
   "id": "55e60199",
   "metadata": {},
   "source": [
    "## Importamos el dataset"
   ]
  },
  {
   "cell_type": "code",
   "execution_count": 2,
   "id": "ac95da65-2b9a-46f2-84af-486025a67843",
   "metadata": {},
   "outputs": [
    {
     "data": {
      "text/html": [
       "\n",
       "    <button type=\"button\" id=\"codigo\" onclick=\"code_toggle('codigo')\">Codigo</button>\n",
       "    <script>\n",
       "    function code_toggle(my_id) {\n",
       "        // get the parent element for the cell code and output\n",
       "        var p = $(\"#\"+my_id);\n",
       "        if (p.length==0) return;\n",
       "        while (!p.hasClass(\"cell\")) {\n",
       "            p = p.parent();\n",
       "            if (p.prop(\"tagName\") ==\"body\") return;\n",
       "        }\n",
       "    // get the cell code and toggle its value\n",
       "    var cell_code = p.find(\".input\");\n",
       "    cell_code.toggle();\n",
       "    }\n",
       "    </script>\n",
       "    "
      ]
     },
     "metadata": {},
     "output_type": "display_data"
    }
   ],
   "source": [
    "toggle_cell_code('codigo')\n",
    "#df3=pd.read_csv(\"/home/cristian/Descargas/huesos y esas vainas/column_3C_weka.csv\")\n",
    "#df3=pd.read_csv('/home/cristian/Descargas/huesos y esas vainas/column_3C_weka.csv')\n",
    "df3=pd.read_csv('C:/Users/belky/column_3C_weka.csv')"
   ]
  },
  {
   "cell_type": "markdown",
   "id": "3f0e7fbe",
   "metadata": {},
   "source": [
    "## Este es el head del dataset"
   ]
  },
  {
   "cell_type": "code",
   "execution_count": 3,
   "id": "130f2003-1a0a-415d-9ef0-1692a2973c7c",
   "metadata": {},
   "outputs": [
    {
     "data": {
      "text/html": [
       "\n",
       "    <button type=\"button\" id=\"codigo1\" onclick=\"code_toggle('codigo1')\">Codigo</button>\n",
       "    <script>\n",
       "    function code_toggle(my_id) {\n",
       "        // get the parent element for the cell code and output\n",
       "        var p = $(\"#\"+my_id);\n",
       "        if (p.length==0) return;\n",
       "        while (!p.hasClass(\"cell\")) {\n",
       "            p = p.parent();\n",
       "            if (p.prop(\"tagName\") ==\"body\") return;\n",
       "        }\n",
       "    // get the cell code and toggle its value\n",
       "    var cell_code = p.find(\".input\");\n",
       "    cell_code.toggle();\n",
       "    }\n",
       "    </script>\n",
       "    "
      ]
     },
     "metadata": {},
     "output_type": "display_data"
    },
    {
     "data": {
      "text/html": [
       "<div>\n",
       "<style scoped>\n",
       "    .dataframe tbody tr th:only-of-type {\n",
       "        vertical-align: middle;\n",
       "    }\n",
       "\n",
       "    .dataframe tbody tr th {\n",
       "        vertical-align: top;\n",
       "    }\n",
       "\n",
       "    .dataframe thead th {\n",
       "        text-align: right;\n",
       "    }\n",
       "</style>\n",
       "<table border=\"1\" class=\"dataframe\">\n",
       "  <thead>\n",
       "    <tr style=\"text-align: right;\">\n",
       "      <th></th>\n",
       "      <th>pelvic_incidence</th>\n",
       "      <th>pelvic_tilt</th>\n",
       "      <th>lumbar_lordosis_angle</th>\n",
       "      <th>sacral_slope</th>\n",
       "      <th>pelvic_radius</th>\n",
       "      <th>degree_spondylolisthesis</th>\n",
       "      <th>class</th>\n",
       "    </tr>\n",
       "  </thead>\n",
       "  <tbody>\n",
       "    <tr>\n",
       "      <th>0</th>\n",
       "      <td>63.027817</td>\n",
       "      <td>22.552586</td>\n",
       "      <td>39.609117</td>\n",
       "      <td>40.475232</td>\n",
       "      <td>98.672917</td>\n",
       "      <td>-0.254400</td>\n",
       "      <td>Hernia</td>\n",
       "    </tr>\n",
       "    <tr>\n",
       "      <th>1</th>\n",
       "      <td>39.056951</td>\n",
       "      <td>10.060991</td>\n",
       "      <td>25.015378</td>\n",
       "      <td>28.995960</td>\n",
       "      <td>114.405425</td>\n",
       "      <td>4.564259</td>\n",
       "      <td>Hernia</td>\n",
       "    </tr>\n",
       "    <tr>\n",
       "      <th>2</th>\n",
       "      <td>68.832021</td>\n",
       "      <td>22.218482</td>\n",
       "      <td>50.092194</td>\n",
       "      <td>46.613539</td>\n",
       "      <td>105.985135</td>\n",
       "      <td>-3.530317</td>\n",
       "      <td>Hernia</td>\n",
       "    </tr>\n",
       "    <tr>\n",
       "      <th>3</th>\n",
       "      <td>69.297008</td>\n",
       "      <td>24.652878</td>\n",
       "      <td>44.311238</td>\n",
       "      <td>44.644130</td>\n",
       "      <td>101.868495</td>\n",
       "      <td>11.211523</td>\n",
       "      <td>Hernia</td>\n",
       "    </tr>\n",
       "    <tr>\n",
       "      <th>4</th>\n",
       "      <td>49.712859</td>\n",
       "      <td>9.652075</td>\n",
       "      <td>28.317406</td>\n",
       "      <td>40.060784</td>\n",
       "      <td>108.168725</td>\n",
       "      <td>7.918501</td>\n",
       "      <td>Hernia</td>\n",
       "    </tr>\n",
       "  </tbody>\n",
       "</table>\n",
       "</div>"
      ],
      "text/plain": [
       "   pelvic_incidence  pelvic_tilt  lumbar_lordosis_angle  sacral_slope  \\\n",
       "0         63.027817    22.552586              39.609117     40.475232   \n",
       "1         39.056951    10.060991              25.015378     28.995960   \n",
       "2         68.832021    22.218482              50.092194     46.613539   \n",
       "3         69.297008    24.652878              44.311238     44.644130   \n",
       "4         49.712859     9.652075              28.317406     40.060784   \n",
       "\n",
       "   pelvic_radius  degree_spondylolisthesis   class  \n",
       "0      98.672917                 -0.254400  Hernia  \n",
       "1     114.405425                  4.564259  Hernia  \n",
       "2     105.985135                 -3.530317  Hernia  \n",
       "3     101.868495                 11.211523  Hernia  \n",
       "4     108.168725                  7.918501  Hernia  "
      ]
     },
     "execution_count": 3,
     "metadata": {},
     "output_type": "execute_result"
    }
   ],
   "source": [
    "toggle_cell_code('codigo1')\n",
    "df3.head()"
   ]
  },
  {
   "cell_type": "markdown",
   "id": "e04e62ed-74ed-46ae-a99a-17f50f8cef4c",
   "metadata": {},
   "source": [
    "## Información de la base de datos"
   ]
  },
  {
   "cell_type": "code",
   "execution_count": 4,
   "id": "b5e5f890-17d4-4e4e-b7d9-43aa98d1b798",
   "metadata": {},
   "outputs": [
    {
     "data": {
      "text/html": [
       "\n",
       "    <button type=\"button\" id=\"codigo2\" onclick=\"code_toggle('codigo2')\">Codigo</button>\n",
       "    <script>\n",
       "    function code_toggle(my_id) {\n",
       "        // get the parent element for the cell code and output\n",
       "        var p = $(\"#\"+my_id);\n",
       "        if (p.length==0) return;\n",
       "        while (!p.hasClass(\"cell\")) {\n",
       "            p = p.parent();\n",
       "            if (p.prop(\"tagName\") ==\"body\") return;\n",
       "        }\n",
       "    // get the cell code and toggle its value\n",
       "    var cell_code = p.find(\".input\");\n",
       "    cell_code.toggle();\n",
       "    }\n",
       "    </script>\n",
       "    "
      ]
     },
     "metadata": {},
     "output_type": "display_data"
    },
    {
     "name": "stdout",
     "output_type": "stream",
     "text": [
      "<class 'pandas.core.frame.DataFrame'>\n",
      "RangeIndex: 310 entries, 0 to 309\n",
      "Data columns (total 7 columns):\n",
      " #   Column                    Non-Null Count  Dtype  \n",
      "---  ------                    --------------  -----  \n",
      " 0   pelvic_incidence          310 non-null    float64\n",
      " 1   pelvic_tilt               310 non-null    float64\n",
      " 2   lumbar_lordosis_angle     310 non-null    float64\n",
      " 3   sacral_slope              310 non-null    float64\n",
      " 4   pelvic_radius             310 non-null    float64\n",
      " 5   degree_spondylolisthesis  310 non-null    float64\n",
      " 6   class                     310 non-null    object \n",
      "dtypes: float64(6), object(1)\n",
      "memory usage: 17.1+ KB\n"
     ]
    }
   ],
   "source": [
    "toggle_cell_code('codigo2')\n",
    "df3.info()\n",
    "df=df3.copy()"
   ]
  },
  {
   "cell_type": "markdown",
   "id": "6bf2dd84",
   "metadata": {},
   "source": [
    "### ¿Qué son esas características?"
   ]
  },
  {
   "cell_type": "markdown",
   "id": "894ab577-a97d-485f-96a5-271a336468dd",
   "metadata": {},
   "source": [
    "El nombre de las columnas que tenemos son:\n",
    "\n",
    "0. Incidencia Pélvica (IP)\n",
    "1. Inclinación Pélvica (AP)\n",
    "2. Ángulo Lordosis Lumbar (ALL)\n",
    "3. Pendiente Sacra (PS)\n",
    "4. Radio Pélvico (RP)\n",
    "5. Grado de Espondilolistesis (GE)\n",
    "6. Clase"
   ]
  },
  {
   "cell_type": "markdown",
   "id": "20caa197",
   "metadata": {},
   "source": [
    "# Teoría de las características"
   ]
  },
  {
   "cell_type": "markdown",
   "id": "f57304ae",
   "metadata": {},
   "source": [
    "\n",
    "\n",
    "## 1. Incidencia Pélvica (PI)\n",
    "Es una medida del ángulo que hay entre una línea que atraviesa los extremos del       sacro y la línea desde el punto superior del sacro, hasta el centro de la cabeza femoral (la bola del hueso del músculo). \n",
    "\n",
    "Es decir, es un término que relaciona la orientación y la posición de la pelvis con la columna.\n",
    "\n",
    "\n",
    "![](https://eor.bioscientifica.com/view/journals/eor/6/12/2058-5241.6.210062-fig5.jpeg)\n",
    "\n",
    "\n",
    "\n"
   ]
  },
  {
   "cell_type": "markdown",
   "id": "ef4b5c43",
   "metadata": {},
   "source": [
    "## 2. Inclinación Pélvica (PT)\n",
    "\n",
    "Se refiere a la curvatura de la columna vertebral y la orientación de la pelvis en una posición de pie. La inclinación pélvica se puede dividir en dos tipos: la inclinación anterior y la inclinación posterior.\n",
    "\n",
    "![](https://encrypted-tbn0.gstatic.com/images?q=tbn:ANd9GcQgPbYsjZy6GUyVKsDZzjlnhoyJblEJUOOKeJuck8Kuy6mhJQVP)\n",
    "\n",
    "![](https://i.redd.it/dr0hlahc3xj41.jpg)\n"
   ]
  },
  {
   "cell_type": "markdown",
   "id": "f44d9453",
   "metadata": {},
   "source": [
    "## 3. Pendiente Sacra (SS)\n",
    "\n",
    "Es la resta entre la incidencia pélvica y la inclinación pélvica. Y me dice cuál es la   inclinación del hueso sacro. Esta inclinación puede tener efectos significativos en la postura y la mecánica del cuerpo."
   ]
  },
  {
   "cell_type": "markdown",
   "id": "c8712ff9",
   "metadata": {},
   "source": [
    "### SS≈40"
   ]
  },
  {
   "cell_type": "markdown",
   "id": "7371407f",
   "metadata": {},
   "source": [
    "![](https://www.medigraphic.com/files/abc/bc-2022/4/bc224h-1.jpg)"
   ]
  },
  {
   "cell_type": "markdown",
   "id": "f33133c0",
   "metadata": {},
   "source": [
    "## 4. Ángulo Lordosis Lumbar (LL)\n",
    "\n",
    "El ángulo de lordosis lumbar es una medida utilizada en medicina para evaluar la curvatura de la columna vertebral en la zona lumbar. La lordosis lumbar se refiere a la curvatura natural de la columna vertebral en la región lumbar, que es la zona baja de la espalda, en la que la columna se curva hacia adentro, en dirección al abdomen.\n",
    "\n",
    "El ángulo normal de lordosis lumbar en adultos suele oscilar entre 30 y 60 grados.\n",
    "Una lordosis lumbar excesiva puede ser el resultado de una mala postura, un trauma, un desequilibrio muscular, una obesidad, una enfermedad degenerativa del disco, una escoliosis o una displasia de cadera."
   ]
  },
  {
   "cell_type": "markdown",
   "id": "3c6704cb",
   "metadata": {},
   "source": [
    "![](https://scontent.fczu1-1.fna.fbcdn.net/v/t31.18172-8/19679172_788605147968765_6675043095018882452_o.jpg?_nc_cat=111&ccb=1-7&_nc_sid=9267fe&_nc_ohc=yMAbYnjDF6gAX_Er3Qe&_nc_ht=scontent.fczu1-1.fna&oh=00_AfCU8hpctDRlreEX3A2zNDSaODfhTko6MiUBkis5RothzQ&oe=6447E727)\n",
    "![]()"
   ]
  },
  {
   "cell_type": "markdown",
   "id": "b4944bef",
   "metadata": {},
   "source": [
    "## 5. Radio Pélvico (RP)\n",
    "\n",
    "El radio pélvico es una medida utilizada en medicina para evaluar la forma y la estructura de la pelvis. Se refiere a la relación entre la distancia entre el promontorio sacro (la parte superior de la pelvis) y la sínfisis púbica (la parte inferior de la pelvis) y la distancia entre las dos espinas ilíacas anterosuperiores (las protuberancias óseas que se encuentran en la parte superior de los huesos de la cadera).\n",
    "El radio pélvico se utiliza para determinar el grado de estrechez o amplitud de la pelvis, y es importante en el diagnóstico y tratamiento de trastornos de la pelvis, como la displasia de cadera o la artrosis."
   ]
  },
  {
   "cell_type": "markdown",
   "id": "33ab3652",
   "metadata": {},
   "source": [
    "![](https://enfermeria.top/talk/huesos-ligamentos-pelvis-perine/featured_hud4b1e0f1b49cee87dd56adb88728eecd_215008_720x0_resize_q90_lanczos.jpg)"
   ]
  },
  {
   "cell_type": "markdown",
   "id": "05eabff6",
   "metadata": {},
   "source": [
    "## 6. Grado de Espondilolistesis (GE)\n",
    "\n",
    "La espondilolistesis se refiere al deslizamiento de una vértebra sobre la vértebra adyacente. El grado de espondilolistesis se refiere al grado de deslizamiento de la vértebra.\n",
    "\n",
    "El grado de espondilolistesis se clasifica en cuatro categorías, según la cantidad de deslizamiento de la vértebra:\n",
    "\n",
    "* Grado 1: El deslizamiento es del 25% o menos.\n",
    "* Grado 2: El deslizamiento es del 25% al 50%.\n",
    "* Grado 3: El deslizamiento es del 50% al 75%.\n",
    "* Grado 4: El deslizamiento es del 75% o más."
   ]
  },
  {
   "cell_type": "markdown",
   "id": "ad1f1be4",
   "metadata": {},
   "source": [
    "![](https://vidaabuelo.com/wp-content/uploads/2019/06/espondilolistesis-2.jpg)"
   ]
  },
  {
   "cell_type": "markdown",
   "id": "aceff44d",
   "metadata": {},
   "source": [
    "## 7. Clases"
   ]
  },
  {
   "cell_type": "markdown",
   "id": "3e429841",
   "metadata": {},
   "source": [
    "# Espondilolistesis\n"
   ]
  },
  {
   "cell_type": "markdown",
   "id": "ec212353",
   "metadata": {},
   "source": [
    "![](https://doctorvalle.es/wp-content/uploads/2020/04/Espondilolistesis.jpg)       "
   ]
  },
  {
   "cell_type": "markdown",
   "id": "1686e730",
   "metadata": {},
   "source": [
    "# Hernia normal\n"
   ]
  },
  {
   "cell_type": "markdown",
   "id": "141696f6",
   "metadata": {},
   "source": [
    "![](https://herniaonline.com/wp-content/uploads/inguinal-hernia.jpg)"
   ]
  },
  {
   "cell_type": "markdown",
   "id": "eaa6aba2",
   "metadata": {},
   "source": [
    "# Hernia de disco"
   ]
  },
  {
   "cell_type": "markdown",
   "id": "af7e5bd0",
   "metadata": {},
   "source": [
    "![](https://www.mayoclinic.org/-/media/kcms/gbs/patient-consumer/images/2016/11/22/17/38/mcdc7_herniated_disk-8col.jpg)"
   ]
  },
  {
   "cell_type": "markdown",
   "id": "d25670a4",
   "metadata": {},
   "source": [
    "### Se cambia el nombre de las columnas por sus siglas"
   ]
  },
  {
   "cell_type": "code",
   "execution_count": 6,
   "id": "774adfcc-f9e7-44c0-a20f-787761aecab7",
   "metadata": {},
   "outputs": [
    {
     "data": {
      "text/html": [
       "\n",
       "    <button type=\"button\" id=\"codigo3\" onclick=\"code_toggle('codigo3')\">Codigo</button>\n",
       "    <script>\n",
       "    function code_toggle(my_id) {\n",
       "        // get the parent element for the cell code and output\n",
       "        var p = $(\"#\"+my_id);\n",
       "        if (p.length==0) return;\n",
       "        while (!p.hasClass(\"cell\")) {\n",
       "            p = p.parent();\n",
       "            if (p.prop(\"tagName\") ==\"body\") return;\n",
       "        }\n",
       "    // get the cell code and toggle its value\n",
       "    var cell_code = p.find(\".input\");\n",
       "    cell_code.toggle();\n",
       "    }\n",
       "    </script>\n",
       "    "
      ]
     },
     "metadata": {},
     "output_type": "display_data"
    }
   ],
   "source": [
    "toggle_cell_code('codigo3')\n",
    "df.rename(columns={'pelvic_incidence':'IP','pelvic_tilt':'AP','lumbar_lordosis_angle':'ALL','sacral_slope':'PS','pelvic_radius':'RP',\n",
    "                      'degree_spondylolisthesis':'GE'},inplace=True)"
   ]
  },
  {
   "cell_type": "markdown",
   "id": "f6385594-bdd4-47ce-8c06-25a1c00c327a",
   "metadata": {},
   "source": [
    "Quedando así..."
   ]
  },
  {
   "cell_type": "code",
   "execution_count": 7,
   "id": "33a5a7c6-0537-44e5-b451-5db11d481c94",
   "metadata": {},
   "outputs": [
    {
     "data": {
      "text/html": [
       "<div>\n",
       "<style scoped>\n",
       "    .dataframe tbody tr th:only-of-type {\n",
       "        vertical-align: middle;\n",
       "    }\n",
       "\n",
       "    .dataframe tbody tr th {\n",
       "        vertical-align: top;\n",
       "    }\n",
       "\n",
       "    .dataframe thead th {\n",
       "        text-align: right;\n",
       "    }\n",
       "</style>\n",
       "<table border=\"1\" class=\"dataframe\">\n",
       "  <thead>\n",
       "    <tr style=\"text-align: right;\">\n",
       "      <th></th>\n",
       "      <th>IP</th>\n",
       "      <th>AP</th>\n",
       "      <th>ALL</th>\n",
       "      <th>PS</th>\n",
       "      <th>RP</th>\n",
       "      <th>GE</th>\n",
       "      <th>class</th>\n",
       "    </tr>\n",
       "  </thead>\n",
       "  <tbody>\n",
       "    <tr>\n",
       "      <th>0</th>\n",
       "      <td>63.027817</td>\n",
       "      <td>22.552586</td>\n",
       "      <td>39.609117</td>\n",
       "      <td>40.475232</td>\n",
       "      <td>98.672917</td>\n",
       "      <td>-0.254400</td>\n",
       "      <td>Hernia</td>\n",
       "    </tr>\n",
       "    <tr>\n",
       "      <th>1</th>\n",
       "      <td>39.056951</td>\n",
       "      <td>10.060991</td>\n",
       "      <td>25.015378</td>\n",
       "      <td>28.995960</td>\n",
       "      <td>114.405425</td>\n",
       "      <td>4.564259</td>\n",
       "      <td>Hernia</td>\n",
       "    </tr>\n",
       "    <tr>\n",
       "      <th>2</th>\n",
       "      <td>68.832021</td>\n",
       "      <td>22.218482</td>\n",
       "      <td>50.092194</td>\n",
       "      <td>46.613539</td>\n",
       "      <td>105.985135</td>\n",
       "      <td>-3.530317</td>\n",
       "      <td>Hernia</td>\n",
       "    </tr>\n",
       "    <tr>\n",
       "      <th>3</th>\n",
       "      <td>69.297008</td>\n",
       "      <td>24.652878</td>\n",
       "      <td>44.311238</td>\n",
       "      <td>44.644130</td>\n",
       "      <td>101.868495</td>\n",
       "      <td>11.211523</td>\n",
       "      <td>Hernia</td>\n",
       "    </tr>\n",
       "    <tr>\n",
       "      <th>4</th>\n",
       "      <td>49.712859</td>\n",
       "      <td>9.652075</td>\n",
       "      <td>28.317406</td>\n",
       "      <td>40.060784</td>\n",
       "      <td>108.168725</td>\n",
       "      <td>7.918501</td>\n",
       "      <td>Hernia</td>\n",
       "    </tr>\n",
       "  </tbody>\n",
       "</table>\n",
       "</div>"
      ],
      "text/plain": [
       "          IP         AP        ALL         PS          RP         GE   class\n",
       "0  63.027817  22.552586  39.609117  40.475232   98.672917  -0.254400  Hernia\n",
       "1  39.056951  10.060991  25.015378  28.995960  114.405425   4.564259  Hernia\n",
       "2  68.832021  22.218482  50.092194  46.613539  105.985135  -3.530317  Hernia\n",
       "3  69.297008  24.652878  44.311238  44.644130  101.868495  11.211523  Hernia\n",
       "4  49.712859   9.652075  28.317406  40.060784  108.168725   7.918501  Hernia"
      ]
     },
     "execution_count": 7,
     "metadata": {},
     "output_type": "execute_result"
    }
   ],
   "source": [
    "df.head()"
   ]
  },
  {
   "cell_type": "markdown",
   "id": "4e2f1597-a823-46c2-a18b-2a9c29b579b2",
   "metadata": {},
   "source": [
    "## ¿Cómo se distribuyen los datos frente a '_clases_'?"
   ]
  },
  {
   "cell_type": "code",
   "execution_count": 8,
   "id": "508ece8d-575c-4f22-9737-cfb9ffdc4d7d",
   "metadata": {},
   "outputs": [
    {
     "data": {
      "text/html": [
       "\n",
       "    <button type=\"button\" id=\"codigo4\" onclick=\"code_toggle('codigo4')\">Codigo</button>\n",
       "    <script>\n",
       "    function code_toggle(my_id) {\n",
       "        // get the parent element for the cell code and output\n",
       "        var p = $(\"#\"+my_id);\n",
       "        if (p.length==0) return;\n",
       "        while (!p.hasClass(\"cell\")) {\n",
       "            p = p.parent();\n",
       "            if (p.prop(\"tagName\") ==\"body\") return;\n",
       "        }\n",
       "    // get the cell code and toggle its value\n",
       "    var cell_code = p.find(\".input\");\n",
       "    cell_code.toggle();\n",
       "    }\n",
       "    </script>\n",
       "    "
      ]
     },
     "metadata": {},
     "output_type": "display_data"
    },
    {
     "data": {
      "text/plain": [
       "<AxesSubplot:ylabel='class'>"
      ]
     },
     "execution_count": 8,
     "metadata": {},
     "output_type": "execute_result"
    },
    {
     "data": {
      "image/png": "[encoded data removed]",
      "text/plain": [
       "<Figure size 576x360 with 2 Axes>"
      ]
     },
     "metadata": {
      "needs_background": "light"
     },
     "output_type": "display_data"
    }
   ],
   "source": [
    "toggle_cell_code('codigo4')\n",
    "graf, mallas=plt.subplots(nrows=1,ncols=2, figsize=(8,5))\n",
    "\n",
    "df['class'].value_counts().plot(kind=\"bar\",color='m',ax=mallas[1])\n",
    "df['class'].value_counts().plot.pie(autopct=\"%1.1f%%\",ax=mallas[0])"
   ]
  },
  {
   "cell_type": "markdown",
   "id": "f32b0cc2-bc89-47af-87cd-8dde95f6d160",
   "metadata": {},
   "source": [
    "Como se ve, casi la mitad de los datos son de personas que tienen Espondilolistesis (más de 140). Y el 19% de los datos son de personas que tienen Hernias (60 personas) discales."
   ]
  },
  {
   "cell_type": "markdown",
   "id": "bd7b0fdc-8921-4dd2-98fc-4d2e7277f7fc",
   "metadata": {},
   "source": [
    "# ¿Cómo es la distribución de las demás variables?\n",
    "\n",
    "Para estudiar las variables continuas, se les aplicó una estimación de densidad de kernel a los histogramas (KDE)."
   ]
  },
  {
   "cell_type": "code",
   "execution_count": 9,
   "id": "f92bbf13-33b7-4fba-b5e5-05c4d07b2698",
   "metadata": {},
   "outputs": [
    {
     "data": {
      "text/html": [
       "\n",
       "    <button type=\"button\" id=\"codigo5\" onclick=\"code_toggle('codigo5')\">Codigo</button>\n",
       "    <script>\n",
       "    function code_toggle(my_id) {\n",
       "        // get the parent element for the cell code and output\n",
       "        var p = $(\"#\"+my_id);\n",
       "        if (p.length==0) return;\n",
       "        while (!p.hasClass(\"cell\")) {\n",
       "            p = p.parent();\n",
       "            if (p.prop(\"tagName\") ==\"body\") return;\n",
       "        }\n",
       "    // get the cell code and toggle its value\n",
       "    var cell_code = p.find(\".input\");\n",
       "    cell_code.toggle();\n",
       "    }\n",
       "    </script>\n",
       "    "
      ]
     },
     "metadata": {},
     "output_type": "display_data"
    },
    {
     "data": {
      "image/png": "[encoded data removed]",
      "text/plain": [
       "<Figure size 1080x1080 with 6 Axes>"
      ]
     },
     "metadata": {
      "needs_background": "light"
     },
     "output_type": "display_data"
    }
   ],
   "source": [
    "toggle_cell_code('codigo5')\n",
    "import seaborn as sns\n",
    "graf, malla=plt.subplots(nrows=3,ncols=2,figsize=(15,15)) \n",
    "malla=malla.flatten()\n",
    "columnas=df.drop('class',axis=1).columns.values\n",
    "\n",
    "for i, columnas in enumerate(columnas):\n",
    "    color=['#C7980A', '#F4651F', '#82D8A7', '#CC3A05', '#575E76', '#156943', '#0BD055', '#ACD338']\n",
    "    #print(columnas,i)\n",
    "    sns.distplot(df[columnas],color=color[-i],ax=malla[i])\n"
   ]
  },
  {
   "cell_type": "markdown",
   "id": "83ec9702-e4d1-46ab-b927-ae1c4f1f2907",
   "metadata": {},
   "source": [
    "¿Qué se puede apreciar a partir de las gráficas de KDE?\n",
    "\n",
    "1. La incidencia pélvica, el ángulo de Lordosis Lumbar y la Pendiente Sacra, son categorías que tienen una desviación estándar grande.\n",
    "2. La inclinación pélvica y el radio pélvico si son valores con desviaciones estándar menores.\n",
    "3. La gráfica de grado de espondilolistesis muestra que, la mayoría de personas tenían grado de espondilolistesis de grado 1 (menor a 25)."
   ]
  },
  {
   "cell_type": "markdown",
   "id": "40bf2853-62c6-4af6-adab-1b0bc0158d8f",
   "metadata": {},
   "source": [
    "# ¿Cómo se distribuyen las categorías, según la variable '_class_'?"
   ]
  },
  {
   "cell_type": "code",
   "execution_count": 10,
   "id": "597f2a17-6491-4f61-9e4c-44b49e820be5",
   "metadata": {
    "scrolled": false
   },
   "outputs": [
    {
     "data": {
      "text/html": [
       "\n",
       "    <button type=\"button\" id=\"codigo6\" onclick=\"code_toggle('codigo6')\">Codigo</button>\n",
       "    <script>\n",
       "    function code_toggle(my_id) {\n",
       "        // get the parent element for the cell code and output\n",
       "        var p = $(\"#\"+my_id);\n",
       "        if (p.length==0) return;\n",
       "        while (!p.hasClass(\"cell\")) {\n",
       "            p = p.parent();\n",
       "            if (p.prop(\"tagName\") ==\"body\") return;\n",
       "        }\n",
       "    // get the cell code and toggle its value\n",
       "    var cell_code = p.find(\".input\");\n",
       "    cell_code.toggle();\n",
       "    }\n",
       "    </script>\n",
       "    "
      ]
     },
     "metadata": {},
     "output_type": "display_data"
    },
    {
     "data": {
      "image/png": "[encoded data removed]",
      "text/plain": [
       "<Figure size 1080x1080 with 6 Axes>"
      ]
     },
     "metadata": {
      "needs_background": "light"
     },
     "output_type": "display_data"
    }
   ],
   "source": [
    "toggle_cell_code('codigo6')\n",
    "graf, malla=plt.subplots(nrows=3,ncols=2,figsize=(15,15)) \n",
    "malla=malla.flatten()\n",
    "\n",
    "columnas=df.drop('class',axis=1).columns.values\n",
    "\n",
    "for i in range(len(columnas)):\n",
    "    sns.stripplot(x = \"class\", y = columnas[i],ax=malla[i] ,data = df, palette=\"magma\")"
   ]
  },
  {
   "cell_type": "markdown",
   "id": "26373ea9",
   "metadata": {},
   "source": [
    "Este tipo de gráfico, permite ver los rangos según la cuál una persona puede tener una hernia, una espondilolistesis o ninguna.\n",
    "\n",
    "Por ejemplo en el Ángulo de Lordosis Lumbar, si se mira la densidad de puntos, se podría decir que:\n",
    "1. Una persona con una hernia, tiene un Ángulo de Lordosis Lumbar más abajo de 40.\n",
    "2. Alguien normal, marca un ALL cerca a 40.\n",
    "3. Alguien que marca un ALL en 60 tiene algún grado de espondilolistesis."
   ]
  },
  {
   "cell_type": "markdown",
   "id": "be914dbf-101e-4bdf-a9b2-17264c55583a",
   "metadata": {},
   "source": [
    "# Se muestran las estadísticas de los datos"
   ]
  },
  {
   "cell_type": "code",
   "execution_count": 11,
   "id": "54f9e8d7-1048-4f3f-a00d-26dcedf4f8f9",
   "metadata": {},
   "outputs": [
    {
     "data": {
      "text/html": [
       "\n",
       "    <button type=\"button\" id=\"codigo7\" onclick=\"code_toggle('codigo7')\">Codigo</button>\n",
       "    <script>\n",
       "    function code_toggle(my_id) {\n",
       "        // get the parent element for the cell code and output\n",
       "        var p = $(\"#\"+my_id);\n",
       "        if (p.length==0) return;\n",
       "        while (!p.hasClass(\"cell\")) {\n",
       "            p = p.parent();\n",
       "            if (p.prop(\"tagName\") ==\"body\") return;\n",
       "        }\n",
       "    // get the cell code and toggle its value\n",
       "    var cell_code = p.find(\".input\");\n",
       "    cell_code.toggle();\n",
       "    }\n",
       "    </script>\n",
       "    "
      ]
     },
     "metadata": {},
     "output_type": "display_data"
    },
    {
     "data": {
      "text/html": [
       "<div>\n",
       "<style scoped>\n",
       "    .dataframe tbody tr th:only-of-type {\n",
       "        vertical-align: middle;\n",
       "    }\n",
       "\n",
       "    .dataframe tbody tr th {\n",
       "        vertical-align: top;\n",
       "    }\n",
       "\n",
       "    .dataframe thead th {\n",
       "        text-align: right;\n",
       "    }\n",
       "</style>\n",
       "<table border=\"1\" class=\"dataframe\">\n",
       "  <thead>\n",
       "    <tr style=\"text-align: right;\">\n",
       "      <th></th>\n",
       "      <th>IP</th>\n",
       "      <th>AP</th>\n",
       "      <th>ALL</th>\n",
       "      <th>PS</th>\n",
       "      <th>RP</th>\n",
       "      <th>GE</th>\n",
       "    </tr>\n",
       "  </thead>\n",
       "  <tbody>\n",
       "    <tr>\n",
       "      <th>count</th>\n",
       "      <td>310.000000</td>\n",
       "      <td>310.000000</td>\n",
       "      <td>310.000000</td>\n",
       "      <td>310.000000</td>\n",
       "      <td>310.000000</td>\n",
       "      <td>310.000000</td>\n",
       "    </tr>\n",
       "    <tr>\n",
       "      <th>mean</th>\n",
       "      <td>60.496653</td>\n",
       "      <td>17.542822</td>\n",
       "      <td>51.930930</td>\n",
       "      <td>42.953831</td>\n",
       "      <td>117.920655</td>\n",
       "      <td>26.296694</td>\n",
       "    </tr>\n",
       "    <tr>\n",
       "      <th>std</th>\n",
       "      <td>17.236520</td>\n",
       "      <td>10.008330</td>\n",
       "      <td>18.554064</td>\n",
       "      <td>13.423102</td>\n",
       "      <td>13.317377</td>\n",
       "      <td>37.559027</td>\n",
       "    </tr>\n",
       "    <tr>\n",
       "      <th>min</th>\n",
       "      <td>26.147921</td>\n",
       "      <td>-6.554948</td>\n",
       "      <td>14.000000</td>\n",
       "      <td>13.366931</td>\n",
       "      <td>70.082575</td>\n",
       "      <td>-11.058179</td>\n",
       "    </tr>\n",
       "    <tr>\n",
       "      <th>25%</th>\n",
       "      <td>46.430294</td>\n",
       "      <td>10.667069</td>\n",
       "      <td>37.000000</td>\n",
       "      <td>33.347122</td>\n",
       "      <td>110.709196</td>\n",
       "      <td>1.603727</td>\n",
       "    </tr>\n",
       "    <tr>\n",
       "      <th>50%</th>\n",
       "      <td>58.691038</td>\n",
       "      <td>16.357689</td>\n",
       "      <td>49.562398</td>\n",
       "      <td>42.404912</td>\n",
       "      <td>118.268178</td>\n",
       "      <td>11.767934</td>\n",
       "    </tr>\n",
       "    <tr>\n",
       "      <th>75%</th>\n",
       "      <td>72.877696</td>\n",
       "      <td>22.120395</td>\n",
       "      <td>63.000000</td>\n",
       "      <td>52.695888</td>\n",
       "      <td>125.467674</td>\n",
       "      <td>41.287352</td>\n",
       "    </tr>\n",
       "    <tr>\n",
       "      <th>max</th>\n",
       "      <td>129.834041</td>\n",
       "      <td>49.431864</td>\n",
       "      <td>125.742385</td>\n",
       "      <td>121.429566</td>\n",
       "      <td>163.071041</td>\n",
       "      <td>418.543082</td>\n",
       "    </tr>\n",
       "  </tbody>\n",
       "</table>\n",
       "</div>"
      ],
      "text/plain": [
       "               IP          AP         ALL          PS          RP          GE\n",
       "count  310.000000  310.000000  310.000000  310.000000  310.000000  310.000000\n",
       "mean    60.496653   17.542822   51.930930   42.953831  117.920655   26.296694\n",
       "std     17.236520   10.008330   18.554064   13.423102   13.317377   37.559027\n",
       "min     26.147921   -6.554948   14.000000   13.366931   70.082575  -11.058179\n",
       "25%     46.430294   10.667069   37.000000   33.347122  110.709196    1.603727\n",
       "50%     58.691038   16.357689   49.562398   42.404912  118.268178   11.767934\n",
       "75%     72.877696   22.120395   63.000000   52.695888  125.467674   41.287352\n",
       "max    129.834041   49.431864  125.742385  121.429566  163.071041  418.543082"
      ]
     },
     "execution_count": 11,
     "metadata": {},
     "output_type": "execute_result"
    }
   ],
   "source": [
    "toggle_cell_code('codigo7')\n",
    "df.describe()"
   ]
  },
  {
   "cell_type": "markdown",
   "id": "1827ffbc-ee6b-4496-8670-f1dc86d4cf17",
   "metadata": {},
   "source": [
    "## ¿Cómo es el comportamiento de cada clase, con determinada característica?\n",
    "### Diagramas de boxplot\n"
   ]
  },
  {
   "cell_type": "code",
   "execution_count": 12,
   "id": "96e4b260-b196-4242-bbd4-29bd9bcfd6b1",
   "metadata": {},
   "outputs": [
    {
     "data": {
      "text/html": [
       "\n",
       "    <button type=\"button\" id=\"codigo8\" onclick=\"code_toggle('codigo8')\">Codigo</button>\n",
       "    <script>\n",
       "    function code_toggle(my_id) {\n",
       "        // get the parent element for the cell code and output\n",
       "        var p = $(\"#\"+my_id);\n",
       "        if (p.length==0) return;\n",
       "        while (!p.hasClass(\"cell\")) {\n",
       "            p = p.parent();\n",
       "            if (p.prop(\"tagName\") ==\"body\") return;\n",
       "        }\n",
       "    // get the cell code and toggle its value\n",
       "    var cell_code = p.find(\".input\");\n",
       "    cell_code.toggle();\n",
       "    }\n",
       "    </script>\n",
       "    "
      ]
     },
     "metadata": {},
     "output_type": "display_data"
    },
    {
     "data": {
      "image/png": "[encoded data removed]",
      "text/plain": [
       "<Figure size 1080x720 with 6 Axes>"
      ]
     },
     "metadata": {
      "needs_background": "light"
     },
     "output_type": "display_data"
    }
   ],
   "source": [
    "toggle_cell_code('codigo8')\n",
    "graf, malla=plt.subplots(nrows=2,ncols=3,figsize=(15,10)) \n",
    "malla=malla.flatten()\n",
    "columnas\n",
    "\n",
    "for i in range (len(columnas)):\n",
    "    sns.boxplot(x='class', y=columnas[i], ax=malla[i],data=df,palette='dark:#5A9_r')"
   ]
  },
  {
   "cell_type": "markdown",
   "id": "c5ca2d0d",
   "metadata": {},
   "source": [
    "# Tratamiento de Outliers"
   ]
  },
  {
   "cell_type": "markdown",
   "id": "e36add8f-a6aa-4d41-91ed-a6fa48437bd4",
   "metadata": {},
   "source": [
    "Como vemos, los datos se comportan relativamente bien. Ellos no tienen tanto sesgo. Pero la clase **Espondilolistesis** es quien tiene más outliers. \n",
    "\n",
    "**¿Cómo trataremos esos outlier's?**\n",
    "\n",
    "Ya que ellos se comportan bien, y no tienen una cantidad significativa de outliers, lo que se hará será cambiar los que estén más alejados. Y se cambiaran por el promedio de los datos."
   ]
  },
  {
   "cell_type": "markdown",
   "id": "ce1e1633-8795-4c45-b5af-6d7aec188f25",
   "metadata": {},
   "source": [
    "## Outliers para GE"
   ]
  },
  {
   "cell_type": "code",
   "execution_count": 13,
   "id": "200f4d7e-f63b-42d9-9a17-0653ff569255",
   "metadata": {},
   "outputs": [
    {
     "data": {
      "text/html": [
       "\n",
       "    <button type=\"button\" id=\"codigo9\" onclick=\"code_toggle('codigo9')\">Codigo</button>\n",
       "    <script>\n",
       "    function code_toggle(my_id) {\n",
       "        // get the parent element for the cell code and output\n",
       "        var p = $(\"#\"+my_id);\n",
       "        if (p.length==0) return;\n",
       "        while (!p.hasClass(\"cell\")) {\n",
       "            p = p.parent();\n",
       "            if (p.prop(\"tagName\") ==\"body\") return;\n",
       "        }\n",
       "    // get the cell code and toggle its value\n",
       "    var cell_code = p.find(\".input\");\n",
       "    cell_code.toggle();\n",
       "    }\n",
       "    </script>\n",
       "    "
      ]
     },
     "metadata": {},
     "output_type": "display_data"
    },
    {
     "data": {
      "text/plain": [
       "<AxesSubplot:xlabel='class', ylabel='GE'>"
      ]
     },
     "execution_count": 13,
     "metadata": {},
     "output_type": "execute_result"
    },
    {
     "data": {
      "image/png": "[encoded data removed]",
      "text/plain": [
       "<Figure size 432x288 with 1 Axes>"
      ]
     },
     "metadata": {
      "needs_background": "light"
     },
     "output_type": "display_data"
    }
   ],
   "source": [
    "toggle_cell_code('codigo9')\n",
    "for i in range (310):\n",
    "    if df['GE'][i]>140:\n",
    "        #print(df['GE'][i])\n",
    "        df['GE'][i]=df['GE'].mean()\n",
    "        #print(df['GE'][i])\n",
    "sns.boxplot(x='class', y=df['GE'], data=df)"
   ]
  },
  {
   "cell_type": "markdown",
   "id": "3e297857-8cf2-46d7-a92d-461c3292cdf2",
   "metadata": {},
   "source": [
    "## Outliers para PS"
   ]
  },
  {
   "cell_type": "code",
   "execution_count": 14,
   "id": "e2ef4108-1cf3-4f4a-86d0-e7d3b644ff8a",
   "metadata": {},
   "outputs": [
    {
     "data": {
      "text/html": [
       "\n",
       "    <button type=\"button\" id=\"codig\" onclick=\"code_toggle('codig')\">Codigo</button>\n",
       "    <script>\n",
       "    function code_toggle(my_id) {\n",
       "        // get the parent element for the cell code and output\n",
       "        var p = $(\"#\"+my_id);\n",
       "        if (p.length==0) return;\n",
       "        while (!p.hasClass(\"cell\")) {\n",
       "            p = p.parent();\n",
       "            if (p.prop(\"tagName\") ==\"body\") return;\n",
       "        }\n",
       "    // get the cell code and toggle its value\n",
       "    var cell_code = p.find(\".input\");\n",
       "    cell_code.toggle();\n",
       "    }\n",
       "    </script>\n",
       "    "
      ]
     },
     "metadata": {},
     "output_type": "display_data"
    },
    {
     "data": {
      "text/plain": [
       "<AxesSubplot:xlabel='class', ylabel='PS'>"
      ]
     },
     "execution_count": 14,
     "metadata": {},
     "output_type": "execute_result"
    },
    {
     "data": {
      "image/png": "[encoded data removed]",
      "text/plain": [
       "<Figure size 432x288 with 1 Axes>"
      ]
     },
     "metadata": {
      "needs_background": "light"
     },
     "output_type": "display_data"
    }
   ],
   "source": [
    "toggle_cell_code('codig')\n",
    "for i in range (310):\n",
    "    if df['PS'][i]>100:\n",
    "        df['PS'][i]=df['PS'].mean()\n",
    "        \n",
    "sns.boxplot(x='class', y=df['PS'], data=df)"
   ]
  },
  {
   "cell_type": "markdown",
   "id": "c5aee169-77b6-4767-9605-e022fbff4088",
   "metadata": {},
   "source": [
    "## Outliers para IP"
   ]
  },
  {
   "cell_type": "code",
   "execution_count": 15,
   "id": "26db6613-0539-432b-9cbf-c9860a13d158",
   "metadata": {},
   "outputs": [
    {
     "data": {
      "text/html": [
       "\n",
       "    <button type=\"button\" id=\"codig1\" onclick=\"code_toggle('codig1')\">Codigo</button>\n",
       "    <script>\n",
       "    function code_toggle(my_id) {\n",
       "        // get the parent element for the cell code and output\n",
       "        var p = $(\"#\"+my_id);\n",
       "        if (p.length==0) return;\n",
       "        while (!p.hasClass(\"cell\")) {\n",
       "            p = p.parent();\n",
       "            if (p.prop(\"tagName\") ==\"body\") return;\n",
       "        }\n",
       "    // get the cell code and toggle its value\n",
       "    var cell_code = p.find(\".input\");\n",
       "    cell_code.toggle();\n",
       "    }\n",
       "    </script>\n",
       "    "
      ]
     },
     "metadata": {},
     "output_type": "display_data"
    },
    {
     "data": {
      "text/plain": [
       "<AxesSubplot:xlabel='class', ylabel='IP'>"
      ]
     },
     "execution_count": 15,
     "metadata": {},
     "output_type": "execute_result"
    },
    {
     "data": {
      "image/png": "[encoded data removed]",
      "text/plain": [
       "<Figure size 432x288 with 1 Axes>"
      ]
     },
     "metadata": {
      "needs_background": "light"
     },
     "output_type": "display_data"
    }
   ],
   "source": [
    "toggle_cell_code('codig1')\n",
    "for i in range (310):\n",
    "    if df['IP'][i]>100:\n",
    "        df['IP'][i]=df['IP'].mean()\n",
    "        \n",
    "sns.boxplot(x='class', y=df['IP'], data=df)"
   ]
  },
  {
   "cell_type": "markdown",
   "id": "2eda5bef-dc7b-4ea3-b13a-f82a9523cea1",
   "metadata": {},
   "source": [
    "## ¿Cómo quedaron los datos con el tratamiento de Outliers?"
   ]
  },
  {
   "cell_type": "code",
   "execution_count": 16,
   "id": "1a99dd12-3f2b-4352-a563-4d867b833722",
   "metadata": {},
   "outputs": [
    {
     "data": {
      "text/html": [
       "\n",
       "    <button type=\"button\" id=\"codig2\" onclick=\"code_toggle('codig2')\">Codigo</button>\n",
       "    <script>\n",
       "    function code_toggle(my_id) {\n",
       "        // get the parent element for the cell code and output\n",
       "        var p = $(\"#\"+my_id);\n",
       "        if (p.length==0) return;\n",
       "        while (!p.hasClass(\"cell\")) {\n",
       "            p = p.parent();\n",
       "            if (p.prop(\"tagName\") ==\"body\") return;\n",
       "        }\n",
       "    // get the cell code and toggle its value\n",
       "    var cell_code = p.find(\".input\");\n",
       "    cell_code.toggle();\n",
       "    }\n",
       "    </script>\n",
       "    "
      ]
     },
     "metadata": {},
     "output_type": "display_data"
    },
    {
     "data": {
      "image/png": "[encoded data removed]",
      "text/plain": [
       "<Figure size 1080x720 with 6 Axes>"
      ]
     },
     "metadata": {
      "needs_background": "light"
     },
     "output_type": "display_data"
    }
   ],
   "source": [
    "toggle_cell_code('codig2')\n",
    "graf, malla=plt.subplots(nrows=2,ncols=3,figsize=(15,10)) \n",
    "malla=malla.flatten()\n",
    "columnas\n",
    "\n",
    "for i in range (len(columnas)):\n",
    "    sns.boxplot(x='class', y=columnas[i], ax=malla[i],data=df,palette='dark:#5A9_r')"
   ]
  },
  {
   "cell_type": "markdown",
   "id": "d4cb0145-ddfb-4238-af43-551e94b99efc",
   "metadata": {},
   "source": [
    "## Miremos la correlación entre las variables"
   ]
  },
  {
   "cell_type": "code",
   "execution_count": 17,
   "id": "c3b4158b-f817-4db8-9129-4d12fd202fcb",
   "metadata": {},
   "outputs": [
    {
     "data": {
      "text/html": [
       "\n",
       "    <button type=\"button\" id=\"codig3\" onclick=\"code_toggle('codig3')\">Codigo</button>\n",
       "    <script>\n",
       "    function code_toggle(my_id) {\n",
       "        // get the parent element for the cell code and output\n",
       "        var p = $(\"#\"+my_id);\n",
       "        if (p.length==0) return;\n",
       "        while (!p.hasClass(\"cell\")) {\n",
       "            p = p.parent();\n",
       "            if (p.prop(\"tagName\") ==\"body\") return;\n",
       "        }\n",
       "    // get the cell code and toggle its value\n",
       "    var cell_code = p.find(\".input\");\n",
       "    cell_code.toggle();\n",
       "    }\n",
       "    </script>\n",
       "    "
      ]
     },
     "metadata": {},
     "output_type": "display_data"
    },
    {
     "data": {
      "text/plain": [
       "<AxesSubplot:>"
      ]
     },
     "execution_count": 17,
     "metadata": {},
     "output_type": "execute_result"
    },
    {
     "data": {
      "image/png": "[encoded data removed]",
      "text/plain": [
       "<Figure size 864x576 with 2 Axes>"
      ]
     },
     "metadata": {
      "needs_background": "light"
     },
     "output_type": "display_data"
    }
   ],
   "source": [
    "toggle_cell_code('codig3')\n",
    "fig, ax=plt.subplots(1,1,figsize=(12,8))\n",
    "sns.heatmap(df.corr(),annot=True)"
   ]
  },
  {
   "cell_type": "markdown",
   "id": "c9c4baaf-5161-4bad-bc07-a01a4cefc268",
   "metadata": {},
   "source": [
    "Podemos codificar (con one-hot) la variable categórica, clase. Y ver cómo es la correlación de dicha variable con cada una de las afectaciones: la Hernia, el  Espondilolistesis."
   ]
  },
  {
   "cell_type": "code",
   "execution_count": 18,
   "id": "e2444ec8-da85-4e19-bc3e-75ed3b76479d",
   "metadata": {},
   "outputs": [
    {
     "data": {
      "text/html": [
       "\n",
       "    <button type=\"button\" id=\"codig4\" onclick=\"code_toggle('codig4')\">Codigo</button>\n",
       "    <script>\n",
       "    function code_toggle(my_id) {\n",
       "        // get the parent element for the cell code and output\n",
       "        var p = $(\"#\"+my_id);\n",
       "        if (p.length==0) return;\n",
       "        while (!p.hasClass(\"cell\")) {\n",
       "            p = p.parent();\n",
       "            if (p.prop(\"tagName\") ==\"body\") return;\n",
       "        }\n",
       "    // get the cell code and toggle its value\n",
       "    var cell_code = p.find(\".input\");\n",
       "    cell_code.toggle();\n",
       "    }\n",
       "    </script>\n",
       "    "
      ]
     },
     "metadata": {},
     "output_type": "display_data"
    }
   ],
   "source": [
    "toggle_cell_code('codig4')\n",
    "d=df.copy()"
   ]
  },
  {
   "cell_type": "markdown",
   "id": "ac4256bc",
   "metadata": {},
   "source": [
    "## Correlación con una codificación un one-hot, para las subclases de _class_"
   ]
  },
  {
   "cell_type": "code",
   "execution_count": 19,
   "id": "86f3498d-d2c5-4887-b720-f4d6b4572c24",
   "metadata": {},
   "outputs": [
    {
     "data": {
      "text/html": [
       "\n",
       "    <button type=\"button\" id=\"codig5\" onclick=\"code_toggle('codig5')\">Codigo</button>\n",
       "    <script>\n",
       "    function code_toggle(my_id) {\n",
       "        // get the parent element for the cell code and output\n",
       "        var p = $(\"#\"+my_id);\n",
       "        if (p.length==0) return;\n",
       "        while (!p.hasClass(\"cell\")) {\n",
       "            p = p.parent();\n",
       "            if (p.prop(\"tagName\") ==\"body\") return;\n",
       "        }\n",
       "    // get the cell code and toggle its value\n",
       "    var cell_code = p.find(\".input\");\n",
       "    cell_code.toggle();\n",
       "    }\n",
       "    </script>\n",
       "    "
      ]
     },
     "metadata": {},
     "output_type": "display_data"
    },
    {
     "data": {
      "text/html": [
       "<div>\n",
       "<style scoped>\n",
       "    .dataframe tbody tr th:only-of-type {\n",
       "        vertical-align: middle;\n",
       "    }\n",
       "\n",
       "    .dataframe tbody tr th {\n",
       "        vertical-align: top;\n",
       "    }\n",
       "\n",
       "    .dataframe thead th {\n",
       "        text-align: right;\n",
       "    }\n",
       "</style>\n",
       "<table border=\"1\" class=\"dataframe\">\n",
       "  <thead>\n",
       "    <tr style=\"text-align: right;\">\n",
       "      <th></th>\n",
       "      <th>Hernia</th>\n",
       "      <th>Normal</th>\n",
       "      <th>Spondylolisthesis</th>\n",
       "    </tr>\n",
       "  </thead>\n",
       "  <tbody>\n",
       "    <tr>\n",
       "      <th>0</th>\n",
       "      <td>1</td>\n",
       "      <td>0</td>\n",
       "      <td>0</td>\n",
       "    </tr>\n",
       "    <tr>\n",
       "      <th>1</th>\n",
       "      <td>1</td>\n",
       "      <td>0</td>\n",
       "      <td>0</td>\n",
       "    </tr>\n",
       "    <tr>\n",
       "      <th>2</th>\n",
       "      <td>1</td>\n",
       "      <td>0</td>\n",
       "      <td>0</td>\n",
       "    </tr>\n",
       "    <tr>\n",
       "      <th>3</th>\n",
       "      <td>1</td>\n",
       "      <td>0</td>\n",
       "      <td>0</td>\n",
       "    </tr>\n",
       "    <tr>\n",
       "      <th>4</th>\n",
       "      <td>1</td>\n",
       "      <td>0</td>\n",
       "      <td>0</td>\n",
       "    </tr>\n",
       "    <tr>\n",
       "      <th>...</th>\n",
       "      <td>...</td>\n",
       "      <td>...</td>\n",
       "      <td>...</td>\n",
       "    </tr>\n",
       "    <tr>\n",
       "      <th>295</th>\n",
       "      <td>0</td>\n",
       "      <td>1</td>\n",
       "      <td>0</td>\n",
       "    </tr>\n",
       "    <tr>\n",
       "      <th>296</th>\n",
       "      <td>0</td>\n",
       "      <td>1</td>\n",
       "      <td>0</td>\n",
       "    </tr>\n",
       "    <tr>\n",
       "      <th>297</th>\n",
       "      <td>0</td>\n",
       "      <td>1</td>\n",
       "      <td>0</td>\n",
       "    </tr>\n",
       "    <tr>\n",
       "      <th>298</th>\n",
       "      <td>0</td>\n",
       "      <td>1</td>\n",
       "      <td>0</td>\n",
       "    </tr>\n",
       "    <tr>\n",
       "      <th>299</th>\n",
       "      <td>0</td>\n",
       "      <td>1</td>\n",
       "      <td>0</td>\n",
       "    </tr>\n",
       "  </tbody>\n",
       "</table>\n",
       "<p>300 rows × 3 columns</p>\n",
       "</div>"
      ],
      "text/plain": [
       "     Hernia  Normal  Spondylolisthesis\n",
       "0         1       0                  0\n",
       "1         1       0                  0\n",
       "2         1       0                  0\n",
       "3         1       0                  0\n",
       "4         1       0                  0\n",
       "..      ...     ...                ...\n",
       "295       0       1                  0\n",
       "296       0       1                  0\n",
       "297       0       1                  0\n",
       "298       0       1                  0\n",
       "299       0       1                  0\n",
       "\n",
       "[300 rows x 3 columns]"
      ]
     },
     "execution_count": 19,
     "metadata": {},
     "output_type": "execute_result"
    }
   ],
   "source": [
    "toggle_cell_code('codig5')\n",
    "dummies = pd.get_dummies(d['class'], drop_first = False)\n",
    "dummies.head(-10)"
   ]
  },
  {
   "cell_type": "code",
   "execution_count": 20,
   "id": "21d0abc8-07db-45a6-8c88-2343451da775",
   "metadata": {},
   "outputs": [
    {
     "data": {
      "text/html": [
       "\n",
       "    <button type=\"button\" id=\"codig6\" onclick=\"code_toggle('codig6')\">Codigo</button>\n",
       "    <script>\n",
       "    function code_toggle(my_id) {\n",
       "        // get the parent element for the cell code and output\n",
       "        var p = $(\"#\"+my_id);\n",
       "        if (p.length==0) return;\n",
       "        while (!p.hasClass(\"cell\")) {\n",
       "            p = p.parent();\n",
       "            if (p.prop(\"tagName\") ==\"body\") return;\n",
       "        }\n",
       "    // get the cell code and toggle its value\n",
       "    var cell_code = p.find(\".input\");\n",
       "    cell_code.toggle();\n",
       "    }\n",
       "    </script>\n",
       "    "
      ]
     },
     "metadata": {},
     "output_type": "display_data"
    },
    {
     "name": "stdout",
     "output_type": "stream",
     "text": [
      "<class 'pandas.core.frame.DataFrame'>\n",
      "RangeIndex: 310 entries, 0 to 309\n",
      "Data columns (total 9 columns):\n",
      " #   Column             Non-Null Count  Dtype  \n",
      "---  ------             --------------  -----  \n",
      " 0   IP                 310 non-null    float64\n",
      " 1   AP                 310 non-null    float64\n",
      " 2   ALL                310 non-null    float64\n",
      " 3   PS                 310 non-null    float64\n",
      " 4   RP                 310 non-null    float64\n",
      " 5   GE                 310 non-null    float64\n",
      " 6   Hernia             310 non-null    uint8  \n",
      " 7   Normal             310 non-null    uint8  \n",
      " 8   Spondylolisthesis  310 non-null    uint8  \n",
      "dtypes: float64(6), uint8(3)\n",
      "memory usage: 15.6 KB\n"
     ]
    }
   ],
   "source": [
    "toggle_cell_code('codig6')\n",
    "# Añadimos las variables binarias al DataFrame\n",
    "d = pd.concat([d, dummies], axis = 1)\n",
    "\n",
    "# Eliminamos la vairable original\n",
    "d = d.drop(columns=['class'])\n",
    "d.info()"
   ]
  },
  {
   "cell_type": "markdown",
   "id": "82749fb4-50af-4a2a-b8ee-046c17918ad7",
   "metadata": {},
   "source": [
    "Ahora sí podemos ver cómo es que se relacionan las variables con c/afectación:"
   ]
  },
  {
   "cell_type": "code",
   "execution_count": 21,
   "id": "58388c2f-9a16-4ede-aef2-ca2d500bee3b",
   "metadata": {},
   "outputs": [
    {
     "data": {
      "text/html": [
       "\n",
       "    <button type=\"button\" id=\"codig7\" onclick=\"code_toggle('codig7')\">Codigo</button>\n",
       "    <script>\n",
       "    function code_toggle(my_id) {\n",
       "        // get the parent element for the cell code and output\n",
       "        var p = $(\"#\"+my_id);\n",
       "        if (p.length==0) return;\n",
       "        while (!p.hasClass(\"cell\")) {\n",
       "            p = p.parent();\n",
       "            if (p.prop(\"tagName\") ==\"body\") return;\n",
       "        }\n",
       "    // get the cell code and toggle its value\n",
       "    var cell_code = p.find(\".input\");\n",
       "    cell_code.toggle();\n",
       "    }\n",
       "    </script>\n",
       "    "
      ]
     },
     "metadata": {},
     "output_type": "display_data"
    },
    {
     "data": {
      "text/plain": [
       "<AxesSubplot:>"
      ]
     },
     "execution_count": 21,
     "metadata": {},
     "output_type": "execute_result"
    },
    {
     "data": {
      "image/png": "[encoded data removed]",
      "text/plain": [
       "<Figure size 864x576 with 2 Axes>"
      ]
     },
     "metadata": {
      "needs_background": "light"
     },
     "output_type": "display_data"
    }
   ],
   "source": [
    "toggle_cell_code('codig7')\n",
    "fig, ax=plt.subplots(1,1,figsize=(12,8))\n",
    "sns.heatmap(d.corr(),annot=True)"
   ]
  },
  {
   "cell_type": "code",
   "execution_count": 22,
   "id": "db9b41c8",
   "metadata": {},
   "outputs": [
    {
     "data": {
      "text/html": [
       "\n",
       "    <button type=\"button\" id=\"codigv\" onclick=\"code_toggle('codigv')\">Codigo</button>\n",
       "    <script>\n",
       "    function code_toggle(my_id) {\n",
       "        // get the parent element for the cell code and output\n",
       "        var p = $(\"#\"+my_id);\n",
       "        if (p.length==0) return;\n",
       "        while (!p.hasClass(\"cell\")) {\n",
       "            p = p.parent();\n",
       "            if (p.prop(\"tagName\") ==\"body\") return;\n",
       "        }\n",
       "    // get the cell code and toggle its value\n",
       "    var cell_code = p.find(\".input\");\n",
       "    cell_code.toggle();\n",
       "    }\n",
       "    </script>\n",
       "    "
      ]
     },
     "metadata": {},
     "output_type": "display_data"
    }
   ],
   "source": [
    "toggle_cell_code('codigv')\n",
    "dfo=df.copy()"
   ]
  },
  {
   "cell_type": "markdown",
   "id": "344e4277-c096-4506-ba66-da895f36f555",
   "metadata": {},
   "source": [
    "# Métodos de Clasificación"
   ]
  },
  {
   "cell_type": "code",
   "execution_count": 23,
   "id": "f080c28a-cc32-4824-931d-971e359ec94a",
   "metadata": {},
   "outputs": [
    {
     "data": {
      "text/html": [
       "\n",
       "    <button type=\"button\" id=\"codig8\" onclick=\"code_toggle('codig8')\">Codigo</button>\n",
       "    <script>\n",
       "    function code_toggle(my_id) {\n",
       "        // get the parent element for the cell code and output\n",
       "        var p = $(\"#\"+my_id);\n",
       "        if (p.length==0) return;\n",
       "        while (!p.hasClass(\"cell\")) {\n",
       "            p = p.parent();\n",
       "            if (p.prop(\"tagName\") ==\"body\") return;\n",
       "        }\n",
       "    // get the cell code and toggle its value\n",
       "    var cell_code = p.find(\".input\");\n",
       "    cell_code.toggle();\n",
       "    }\n",
       "    </script>\n",
       "    "
      ]
     },
     "metadata": {},
     "output_type": "display_data"
    }
   ],
   "source": [
    "toggle_cell_code('codig8')\n",
    "df=pd.read_csv('C:/Users/belky/column_3C_weka.csv')\n",
    "#df=pd.read_csv(\"/home/cristian/Descargas/huesos y esas vainas/column_3C_weka.csv\")"
   ]
  },
  {
   "cell_type": "markdown",
   "id": "676219ea",
   "metadata": {},
   "source": [
    "## Veamos las clases"
   ]
  },
  {
   "cell_type": "code",
   "execution_count": 24,
   "id": "fe275601-edfb-4a48-80da-732493463e39",
   "metadata": {},
   "outputs": [
    {
     "data": {
      "text/html": [
       "\n",
       "    <button type=\"button\" id=\"codi\" onclick=\"code_toggle('codi')\">Codigo</button>\n",
       "    <script>\n",
       "    function code_toggle(my_id) {\n",
       "        // get the parent element for the cell code and output\n",
       "        var p = $(\"#\"+my_id);\n",
       "        if (p.length==0) return;\n",
       "        while (!p.hasClass(\"cell\")) {\n",
       "            p = p.parent();\n",
       "            if (p.prop(\"tagName\") ==\"body\") return;\n",
       "        }\n",
       "    // get the cell code and toggle its value\n",
       "    var cell_code = p.find(\".input\");\n",
       "    cell_code.toggle();\n",
       "    }\n",
       "    </script>\n",
       "    "
      ]
     },
     "metadata": {},
     "output_type": "display_data"
    },
    {
     "data": {
      "text/plain": [
       "Spondylolisthesis    150\n",
       "Normal               100\n",
       "Hernia                60\n",
       "Name: class, dtype: int64"
      ]
     },
     "execution_count": 24,
     "metadata": {},
     "output_type": "execute_result"
    }
   ],
   "source": [
    "toggle_cell_code('codi')\n",
    "df[\"class\"].info\n",
    "pd.value_counts(df['class'])"
   ]
  },
  {
   "cell_type": "markdown",
   "id": "1fcd6736",
   "metadata": {},
   "source": [
    "## Gráfico de dispersión: _Grado de Espondilolistesis vs Radio Pélvico_"
   ]
  },
  {
   "cell_type": "code",
   "execution_count": 25,
   "id": "58c11508-354d-46e2-83af-a905cf8f835a",
   "metadata": {},
   "outputs": [
    {
     "data": {
      "text/html": [
       "\n",
       "    <button type=\"button\" id=\"codi1\" onclick=\"code_toggle('codi1')\">Codigo</button>\n",
       "    <script>\n",
       "    function code_toggle(my_id) {\n",
       "        // get the parent element for the cell code and output\n",
       "        var p = $(\"#\"+my_id);\n",
       "        if (p.length==0) return;\n",
       "        while (!p.hasClass(\"cell\")) {\n",
       "            p = p.parent();\n",
       "            if (p.prop(\"tagName\") ==\"body\") return;\n",
       "        }\n",
       "    // get the cell code and toggle its value\n",
       "    var cell_code = p.find(\".input\");\n",
       "    cell_code.toggle();\n",
       "    }\n",
       "    </script>\n",
       "    "
      ]
     },
     "metadata": {},
     "output_type": "display_data"
    },
    {
     "data": {
      "image/png": "[encoded data removed]",
      "text/plain": [
       "<Figure size 432x288 with 1 Axes>"
      ]
     },
     "metadata": {
      "needs_background": "light"
     },
     "output_type": "display_data"
    }
   ],
   "source": [
    "## Grafico de dispersion del grado de espondilolistesis vs radio pelvico\n",
    "toggle_cell_code('codi1')\n",
    "import matplotlib.pyplot as plt \n",
    "\n",
    "plt.scatter(x = df[\"pelvic_radius\"],y = df[\"degree_spondylolisthesis\"],color = \"black\")\n",
    "x = df[\"pelvic_radius\"]\n",
    "y = df[\"degree_spondylolisthesis\"]"
   ]
  },
  {
   "cell_type": "markdown",
   "id": "1eb79db1",
   "metadata": {},
   "source": [
    "## Grafico de las clases:\n",
    "\n",
    "    Rojo: Normal\n",
    "    Naranja: Hernia de disco\n",
    "    Amarillo: Espondilolistesis\n"
   ]
  },
  {
   "cell_type": "code",
   "execution_count": 26,
   "id": "96fb6317-a858-41c5-8a45-7f5f246c2c5a",
   "metadata": {
    "scrolled": true
   },
   "outputs": [
    {
     "data": {
      "text/html": [
       "\n",
       "    <button type=\"button\" id=\"codi3\" onclick=\"code_toggle('codi3')\">Codigo</button>\n",
       "    <script>\n",
       "    function code_toggle(my_id) {\n",
       "        // get the parent element for the cell code and output\n",
       "        var p = $(\"#\"+my_id);\n",
       "        if (p.length==0) return;\n",
       "        while (!p.hasClass(\"cell\")) {\n",
       "            p = p.parent();\n",
       "            if (p.prop(\"tagName\") ==\"body\") return;\n",
       "        }\n",
       "    // get the cell code and toggle its value\n",
       "    var cell_code = p.find(\".input\");\n",
       "    cell_code.toggle();\n",
       "    }\n",
       "    </script>\n",
       "    "
      ]
     },
     "metadata": {},
     "output_type": "display_data"
    },
    {
     "data": {
      "text/plain": [
       "<matplotlib.legend.Legend at 0x1e0db0991f0>"
      ]
     },
     "execution_count": 26,
     "metadata": {},
     "output_type": "execute_result"
    },
    {
     "data": {
      "image/png": "[encoded data removed]",
      "text/plain": [
       "<Figure size 432x288 with 1 Axes>"
      ]
     },
     "metadata": {
      "needs_background": "light"
     },
     "output_type": "display_data"
    }
   ],
   "source": [
    "toggle_cell_code('codi3')\n",
    "fig, ax=plt.subplots()\n",
    "plt.scatter(x = df[df[\"class\"] == \"Normal\"].pelvic_radius , y = df[df[\"class\"] == \"Normal\"].degree_spondylolisthesis,color = \"red\", label='Normal')\n",
    "plt.scatter(x = df[df[\"class\"] == \"Hernia\"].pelvic_radius , y = df[df[\"class\"] == \"Hernia\"].degree_spondylolisthesis,color = \"orange\",label='Hernia-Disco')\n",
    "plt.scatter(x = df[df[\"class\"] == \"Spondylolisthesis\"].pelvic_radius , y = df[df[\"class\"] == \"Spondylolisthesis\"].degree_spondylolisthesis,color = \"yellow\", label='Espondilolistesis')\n",
    "ax.legend()"
   ]
  },
  {
   "cell_type": "markdown",
   "id": "30eabf17-0b06-41a9-b236-06efd39f9921",
   "metadata": {
    "tags": []
   },
   "source": [
    "## Se unen las clases: _Hernia normal y Hernia de disco_"
   ]
  },
  {
   "cell_type": "code",
   "execution_count": 27,
   "id": "e8046d5b-989e-4273-b511-72a193ceaf77",
   "metadata": {},
   "outputs": [
    {
     "data": {
      "text/html": [
       "\n",
       "    <button type=\"button\" id=\"codi4\" onclick=\"code_toggle('codi4')\">Codigo</button>\n",
       "    <script>\n",
       "    function code_toggle(my_id) {\n",
       "        // get the parent element for the cell code and output\n",
       "        var p = $(\"#\"+my_id);\n",
       "        if (p.length==0) return;\n",
       "        while (!p.hasClass(\"cell\")) {\n",
       "            p = p.parent();\n",
       "            if (p.prop(\"tagName\") ==\"body\") return;\n",
       "        }\n",
       "    // get the cell code and toggle its value\n",
       "    var cell_code = p.find(\".input\");\n",
       "    cell_code.toggle();\n",
       "    }\n",
       "    </script>\n",
       "    "
      ]
     },
     "metadata": {},
     "output_type": "display_data"
    }
   ],
   "source": [
    "toggle_cell_code('codi4')\n",
    "df[\"class\"]=df[\"class\"].replace(\"Normal\",\"Hernia\")"
   ]
  },
  {
   "cell_type": "markdown",
   "id": "79fa9430",
   "metadata": {},
   "source": [
    "## Gráfico de referencia \n",
    "Clusters: Hernia y Espondilolistesis"
   ]
  },
  {
   "cell_type": "code",
   "execution_count": 28,
   "id": "9af57d4b-6d95-4e24-b179-04ce014636a6",
   "metadata": {
    "scrolled": true
   },
   "outputs": [
    {
     "data": {
      "text/html": [
       "\n",
       "    <button type=\"button\" id=\"codi6\" onclick=\"code_toggle('codi6')\">Codigo</button>\n",
       "    <script>\n",
       "    function code_toggle(my_id) {\n",
       "        // get the parent element for the cell code and output\n",
       "        var p = $(\"#\"+my_id);\n",
       "        if (p.length==0) return;\n",
       "        while (!p.hasClass(\"cell\")) {\n",
       "            p = p.parent();\n",
       "            if (p.prop(\"tagName\") ==\"body\") return;\n",
       "        }\n",
       "    // get the cell code and toggle its value\n",
       "    var cell_code = p.find(\".input\");\n",
       "    cell_code.toggle();\n",
       "    }\n",
       "    </script>\n",
       "    "
      ]
     },
     "metadata": {},
     "output_type": "display_data"
    },
    {
     "data": {
      "text/plain": [
       "<matplotlib.collections.PathCollection at 0x1e0db01dd30>"
      ]
     },
     "execution_count": 28,
     "metadata": {},
     "output_type": "execute_result"
    },
    {
     "data": {
      "image/png": "[encoded data removed]",
      "text/plain": [
       "<Figure size 432x288 with 1 Axes>"
      ]
     },
     "metadata": {
      "needs_background": "light"
     },
     "output_type": "display_data"
    }
   ],
   "source": [
    "toggle_cell_code('codi6')\n",
    "plt.scatter(x = df[df[\"class\"] == \"Spondylolisthesis\"].pelvic_radius , y = df[df[\"class\"] == \"Spondylolisthesis\"].degree_spondylolisthesis,color = \"red\")\n",
    "plt.scatter(x = df[df[\"class\"] == \"Hernia\"].pelvic_radius , y = df[df[\"class\"] == \"Hernia\"].degree_spondylolisthesis,color = \"yellow\")"
   ]
  },
  {
   "cell_type": "markdown",
   "id": "53423351",
   "metadata": {},
   "source": [
    "## Balanceo "
   ]
  },
  {
   "cell_type": "code",
   "execution_count": 29,
   "id": "a725029e-76e2-495a-b10c-2e4d80849a11",
   "metadata": {},
   "outputs": [
    {
     "data": {
      "text/html": [
       "\n",
       "    <button type=\"button\" id=\"codi7\" onclick=\"code_toggle('codi7')\">Codigo</button>\n",
       "    <script>\n",
       "    function code_toggle(my_id) {\n",
       "        // get the parent element for the cell code and output\n",
       "        var p = $(\"#\"+my_id);\n",
       "        if (p.length==0) return;\n",
       "        while (!p.hasClass(\"cell\")) {\n",
       "            p = p.parent();\n",
       "            if (p.prop(\"tagName\") ==\"body\") return;\n",
       "        }\n",
       "    // get the cell code and toggle its value\n",
       "    var cell_code = p.find(\".input\");\n",
       "    cell_code.toggle();\n",
       "    }\n",
       "    </script>\n",
       "    "
      ]
     },
     "metadata": {},
     "output_type": "display_data"
    },
    {
     "data": {
      "image/png": "[encoded data removed]",
      "text/plain": [
       "<Figure size 432x432 with 1 Axes>"
      ]
     },
     "metadata": {},
     "output_type": "display_data"
    }
   ],
   "source": [
    "toggle_cell_code('codi7')\n",
    "colors=('red','yellow')\n",
    "df['class'].value_counts().plot(kind='pie',shadow=True,colors=colors,autopct='%.2f',figsize=(6,6))\n",
    "plt.show()"
   ]
  },
  {
   "cell_type": "markdown",
   "id": "f2716692-9c99-4646-9455-41c6b93492dd",
   "metadata": {},
   "source": [
    "Las clases no presentan un desvalanceo significante"
   ]
  },
  {
   "cell_type": "markdown",
   "id": "03800338-a56a-4391-83a3-0563291dd73f",
   "metadata": {},
   "source": [
    "# 1. MeanShift"
   ]
  },
  {
   "cell_type": "markdown",
   "id": "259e8bec",
   "metadata": {},
   "source": [
    "![](data:image/png;base64,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)"
   ]
  },
  {
   "cell_type": "code",
   "execution_count": 30,
   "id": "ca0e30a5-b2ba-443d-8fe0-46a7a3ffc76f",
   "metadata": {},
   "outputs": [
    {
     "data": {
      "text/html": [
       "\n",
       "    <button type=\"button\" id=\"codi0\" onclick=\"code_toggle('codi0')\">Codigo</button>\n",
       "    <script>\n",
       "    function code_toggle(my_id) {\n",
       "        // get the parent element for the cell code and output\n",
       "        var p = $(\"#\"+my_id);\n",
       "        if (p.length==0) return;\n",
       "        while (!p.hasClass(\"cell\")) {\n",
       "            p = p.parent();\n",
       "            if (p.prop(\"tagName\") ==\"body\") return;\n",
       "        }\n",
       "    // get the cell code and toggle its value\n",
       "    var cell_code = p.find(\".input\");\n",
       "    cell_code.toggle();\n",
       "    }\n",
       "    </script>\n",
       "    "
      ]
     },
     "metadata": {},
     "output_type": "display_data"
    }
   ],
   "source": [
    "toggle_cell_code('codi0')\n",
    "\n",
    "#Se hace una copia al dataset original\n",
    "df1=df.copy()\n",
    "\n",
    "#Importamos el métodola librería y el método\n",
    "from sklearn.cluster import MeanShift, estimate_bandwidth\n",
    "\n",
    "#Con los datos que están dentro \n",
    "#de la Gráfica de dispersion del G de espondilolistesis \n",
    "#vs radio pelvico, se crea un mini dataset\n",
    "cluster_data_Aux = {\"x\":x,\"y\":y}\n",
    "datac = pd.DataFrame(cluster_data_Aux)\n",
    "\n",
    "#Se estima el tamaño idóneo del circulito\n",
    "bandwidth = estimate_bandwidth(datac)\n",
    "\n",
    "#este es el modelo\n",
    "ms = MeanShift(bandwidth=bandwidth , bin_seeding=True)\n",
    "\n",
    "#Se hace aplica el modelo al dataset pequeño, para entrenarlo\n",
    "clusters = ms.fit_predict(datac)\n",
    "\n",
    "#Se agregan esos clusters, como una columna 'label', al dataset original.\n",
    "df1[\"label\"] = clusters"
   ]
  },
  {
   "cell_type": "markdown",
   "id": "834176a8",
   "metadata": {},
   "source": [
    "### Gráfico MeanShift"
   ]
  },
  {
   "cell_type": "code",
   "execution_count": 31,
   "id": "542e802f-c69d-4277-8fa5-693b34c6e955",
   "metadata": {
    "scrolled": true
   },
   "outputs": [
    {
     "data": {
      "text/html": [
       "\n",
       "    <button type=\"button\" id=\"cod3\" onclick=\"code_toggle('cod3')\">Codigo</button>\n",
       "    <script>\n",
       "    function code_toggle(my_id) {\n",
       "        // get the parent element for the cell code and output\n",
       "        var p = $(\"#\"+my_id);\n",
       "        if (p.length==0) return;\n",
       "        while (!p.hasClass(\"cell\")) {\n",
       "            p = p.parent();\n",
       "            if (p.prop(\"tagName\") ==\"body\") return;\n",
       "        }\n",
       "    // get the cell code and toggle its value\n",
       "    var cell_code = p.find(\".input\");\n",
       "    cell_code.toggle();\n",
       "    }\n",
       "    </script>\n",
       "    "
      ]
     },
     "metadata": {},
     "output_type": "display_data"
    },
    {
     "name": "stdout",
     "output_type": "stream",
     "text": [
      "Podemos ver como detecto 3 clusters (y un punto outlier).\n"
     ]
    },
    {
     "data": {
      "image/png": "[encoded data removed]",
      "text/plain": [
       "<Figure size 432x288 with 1 Axes>"
      ]
     },
     "metadata": {
      "needs_background": "light"
     },
     "output_type": "display_data"
    }
   ],
   "source": [
    "toggle_cell_code('cod3')\n",
    "#fig, ax=plt.subplots()\n",
    "\n",
    "#Se hace el mismo gráfico de G de espondilolitesis vs radio pélvico, con color diferente según el tipo de closter al\n",
    "#que pertenece\n",
    "plt.scatter(x = df1[df1.label == 0].pelvic_radius,y = df1[df1.label == 0].degree_spondylolisthesis , color = \"yellow\",label='Espondilolistesis')\n",
    "plt.scatter(x = df1[df1.label == 1].pelvic_radius,y = df1[df1.label == 1].degree_spondylolisthesis , color = \"red\", label='Normal')\n",
    "plt.scatter(x = df1[df1.label == 2].pelvic_radius,y = df1[df1.label == 2].degree_spondylolisthesis , color = \"orange\", label='Hernia')\n",
    "plt.scatter(x = df1[df1.label == 3].pelvic_radius,y = df1[df1.label == 3].degree_spondylolisthesis , color = \"black\", label='Outlier')\n",
    "#ax.legend()\n",
    "\n",
    "print('Podemos ver como detecto 3 clusters (y un punto outlier).')"
   ]
  },
  {
   "cell_type": "markdown",
   "id": "d3692fcb",
   "metadata": {},
   "source": [
    "¿Cuántos elementos por clusters se obtuvieron?"
   ]
  },
  {
   "cell_type": "code",
   "execution_count": 32,
   "id": "0b30d2c3-41e5-417f-89a7-6d10c8a6c7fa",
   "metadata": {},
   "outputs": [
    {
     "data": {
      "text/html": [
       "\n",
       "    <button type=\"button\" id=\"cod4\" onclick=\"code_toggle('cod4')\">Codigo</button>\n",
       "    <script>\n",
       "    function code_toggle(my_id) {\n",
       "        // get the parent element for the cell code and output\n",
       "        var p = $(\"#\"+my_id);\n",
       "        if (p.length==0) return;\n",
       "        while (!p.hasClass(\"cell\")) {\n",
       "            p = p.parent();\n",
       "            if (p.prop(\"tagName\") ==\"body\") return;\n",
       "        }\n",
       "    // get the cell code and toggle its value\n",
       "    var cell_code = p.find(\".input\");\n",
       "    cell_code.toggle();\n",
       "    }\n",
       "    </script>\n",
       "    "
      ]
     },
     "metadata": {},
     "output_type": "display_data"
    },
    {
     "data": {
      "text/plain": [
       "0    167\n",
       "1    128\n",
       "2     14\n",
       "3      1\n",
       "Name: label, dtype: int64"
      ]
     },
     "execution_count": 32,
     "metadata": {},
     "output_type": "execute_result"
    }
   ],
   "source": [
    "toggle_cell_code('cod4')\n",
    "pd.value_counts(df1['label'])"
   ]
  },
  {
   "cell_type": "markdown",
   "id": "77b3bbce",
   "metadata": {},
   "source": [
    "¿Cómo podría mejorar?\n",
    "Cambiando la función kernel, que en este caso, era Gaussiana."
   ]
  },
  {
   "cell_type": "markdown",
   "id": "9d4ef7bb-52a5-4ed5-b69a-bc8f11393aef",
   "metadata": {},
   "source": [
    "# 2. DBSCAN"
   ]
  },
  {
   "cell_type": "markdown",
   "id": "4bc516ab",
   "metadata": {},
   "source": [
    "![](https://www.researchgate.net/publication/315326812/figure/fig2/AS:473095908663297@1489806262333/A-cluster-consists-of-core-points-red-and-border-points-green-Core-points-have-at.png)"
   ]
  },
  {
   "cell_type": "code",
   "execution_count": 33,
   "id": "91d16e54",
   "metadata": {},
   "outputs": [
    {
     "data": {
      "text/html": [
       "\n",
       "    <button type=\"button\" id=\"cod5\" onclick=\"code_toggle('cod5')\">Codigo</button>\n",
       "    <script>\n",
       "    function code_toggle(my_id) {\n",
       "        // get the parent element for the cell code and output\n",
       "        var p = $(\"#\"+my_id);\n",
       "        if (p.length==0) return;\n",
       "        while (!p.hasClass(\"cell\")) {\n",
       "            p = p.parent();\n",
       "            if (p.prop(\"tagName\") ==\"body\") return;\n",
       "        }\n",
       "    // get the cell code and toggle its value\n",
       "    var cell_code = p.find(\".input\");\n",
       "    cell_code.toggle();\n",
       "    }\n",
       "    </script>\n",
       "    "
      ]
     },
     "metadata": {},
     "output_type": "display_data"
    }
   ],
   "source": [
    "toggle_cell_code('cod5')\n",
    "df2=df.copy()\n",
    "\n",
    "#Se estandariza los datos, es decir, se normalizan usando desviación estan\n",
    "#dar.\n",
    "datacc=datac.apply(lambda x: (x-x.mean())/(x.std()+0.0000001), axis=0)\n",
    "\n",
    "#Se improrta el método\n",
    "from sklearn.cluster import DBSCAN"
   ]
  },
  {
   "cell_type": "markdown",
   "id": "2ad56635",
   "metadata": {},
   "source": [
    "### Los parámetros que se ligieron fueron\n",
    "\n",
    "1. Radio: $\\epsilon ps=0.5$\n",
    "2. Mínimos vecinos: $minPts=4$\n",
    "\n",
    "Estos parámetros se eligieron visualmente, es decir, se dejaron ellos, porque fueron los mejores candidatos."
   ]
  },
  {
   "cell_type": "code",
   "execution_count": 34,
   "id": "9f59b876",
   "metadata": {},
   "outputs": [
    {
     "data": {
      "text/html": [
       "\n",
       "    <button type=\"button\" id=\"cod8\" onclick=\"code_toggle('cod8')\">Codigo</button>\n",
       "    <script>\n",
       "    function code_toggle(my_id) {\n",
       "        // get the parent element for the cell code and output\n",
       "        var p = $(\"#\"+my_id);\n",
       "        if (p.length==0) return;\n",
       "        while (!p.hasClass(\"cell\")) {\n",
       "            p = p.parent();\n",
       "            if (p.prop(\"tagName\") ==\"body\") return;\n",
       "        }\n",
       "    // get the cell code and toggle its value\n",
       "    var cell_code = p.find(\".input\");\n",
       "    cell_code.toggle();\n",
       "    }\n",
       "    </script>\n",
       "    "
      ]
     },
     "metadata": {},
     "output_type": "display_data"
    },
    {
     "name": "stdout",
     "output_type": "stream",
     "text": [
      "DBSCAN encontró 2 clusters y 18 puntos de ruido.\n"
     ]
    }
   ],
   "source": [
    "toggle_cell_code('cod8')\n",
    "\n",
    "#Se arma el modelo\n",
    "cluster = DBSCAN(eps=0.5, min_samples=4)\n",
    "\n",
    "#Se aplica el modelo sobre la mini-base de datos que se había creado (datac)\n",
    "#solo que esta nueva (datacc) es el estandarizado de ella (datac).\n",
    "cluster.fit(datacc)\n",
    "\n",
    "#Esto de abajo se hizo para calibrar el haber encontrado 2 clusters\n",
    "print(f'DBSCAN encontró {len(set(cluster.labels_) - set([-1]))} clusters y {(cluster.labels_ == -1).sum()} puntos de ruido.')"
   ]
  },
  {
   "cell_type": "markdown",
   "id": "968b0b09",
   "metadata": {},
   "source": [
    "Se hace el fit sobre la base de datos:"
   ]
  },
  {
   "cell_type": "code",
   "execution_count": 35,
   "id": "93dec501",
   "metadata": {},
   "outputs": [
    {
     "data": {
      "text/html": [
       "\n",
       "    <button type=\"button\" id=\"cod9\" onclick=\"code_toggle('cod9')\">Codigo</button>\n",
       "    <script>\n",
       "    function code_toggle(my_id) {\n",
       "        // get the parent element for the cell code and output\n",
       "        var p = $(\"#\"+my_id);\n",
       "        if (p.length==0) return;\n",
       "        while (!p.hasClass(\"cell\")) {\n",
       "            p = p.parent();\n",
       "            if (p.prop(\"tagName\") ==\"body\") return;\n",
       "        }\n",
       "    // get the cell code and toggle its value\n",
       "    var cell_code = p.find(\".input\");\n",
       "    cell_code.toggle();\n",
       "    }\n",
       "    </script>\n",
       "    "
      ]
     },
     "metadata": {},
     "output_type": "display_data"
    }
   ],
   "source": [
    "toggle_cell_code('cod9')\n",
    "\n",
    "#Se hace el fit sobre la base de datos \n",
    "clusters = cluster.fit_predict(datacc)\n",
    "df2[\"label\"] = clusters"
   ]
  },
  {
   "cell_type": "markdown",
   "id": "676fa884",
   "metadata": {},
   "source": [
    "¿Cuántos elementos hay en cada cluster?\n",
    "\n",
    "El cluster '-1', son los outliers."
   ]
  },
  {
   "cell_type": "code",
   "execution_count": 36,
   "id": "9c42a45e",
   "metadata": {},
   "outputs": [
    {
     "data": {
      "text/html": [
       "\n",
       "    <button type=\"button\" id=\"co\" onclick=\"code_toggle('co')\">Codigo</button>\n",
       "    <script>\n",
       "    function code_toggle(my_id) {\n",
       "        // get the parent element for the cell code and output\n",
       "        var p = $(\"#\"+my_id);\n",
       "        if (p.length==0) return;\n",
       "        while (!p.hasClass(\"cell\")) {\n",
       "            p = p.parent();\n",
       "            if (p.prop(\"tagName\") ==\"body\") return;\n",
       "        }\n",
       "    // get the cell code and toggle its value\n",
       "    var cell_code = p.find(\".input\");\n",
       "    cell_code.toggle();\n",
       "    }\n",
       "    </script>\n",
       "    "
      ]
     },
     "metadata": {},
     "output_type": "display_data"
    },
    {
     "data": {
      "text/plain": [
       " 0    285\n",
       "-1     18\n",
       " 1      7\n",
       "Name: label, dtype: int64"
      ]
     },
     "execution_count": 36,
     "metadata": {},
     "output_type": "execute_result"
    }
   ],
   "source": [
    "toggle_cell_code('co')\n",
    "pd.value_counts(df2['label'])"
   ]
  },
  {
   "cell_type": "markdown",
   "id": "0c7ea032",
   "metadata": {},
   "source": [
    "## Gráfico de DBSCAN"
   ]
  },
  {
   "cell_type": "code",
   "execution_count": 37,
   "id": "339ac59e",
   "metadata": {},
   "outputs": [
    {
     "data": {
      "text/html": [
       "\n",
       "    <button type=\"button\" id=\"co1\" onclick=\"code_toggle('co1')\">Codigo</button>\n",
       "    <script>\n",
       "    function code_toggle(my_id) {\n",
       "        // get the parent element for the cell code and output\n",
       "        var p = $(\"#\"+my_id);\n",
       "        if (p.length==0) return;\n",
       "        while (!p.hasClass(\"cell\")) {\n",
       "            p = p.parent();\n",
       "            if (p.prop(\"tagName\") ==\"body\") return;\n",
       "        }\n",
       "    // get the cell code and toggle its value\n",
       "    var cell_code = p.find(\".input\");\n",
       "    cell_code.toggle();\n",
       "    }\n",
       "    </script>\n",
       "    "
      ]
     },
     "metadata": {},
     "output_type": "display_data"
    },
    {
     "data": {
      "text/plain": [
       "<matplotlib.collections.PathCollection at 0x1e0dc4e0d30>"
      ]
     },
     "execution_count": 37,
     "metadata": {},
     "output_type": "execute_result"
    },
    {
     "data": {
      "image/png": "[encoded data removed]",
      "text/plain": [
       "<Figure size 432x288 with 1 Axes>"
      ]
     },
     "metadata": {
      "needs_background": "light"
     },
     "output_type": "display_data"
    }
   ],
   "source": [
    "toggle_cell_code('co1')\n",
    "plt.scatter(x = df2[df2.label == -1].pelvic_radius,y = df2[df2.label == -1].degree_spondylolisthesis , color = \"black\")\n",
    "plt.scatter(x = df2[df2.label == 0].pelvic_radius,y = df2[df2.label == 0].degree_spondylolisthesis , color = \"yellow\")\n",
    "plt.scatter(x = df2[df2.label == 1].pelvic_radius,y = df2[df2.label == 1].degree_spondylolisthesis , color = \"red\")"
   ]
  },
  {
   "cell_type": "markdown",
   "id": "fab35ff9",
   "metadata": {},
   "source": [
    "¿Cómo podría mejorar?\n",
    "1. Cambiando la métrica que calculara la similitud de los puntos, una Malahanobis, por ejemplo.\n",
    "2. Normalización estándar, a una de rango.\n",
    "\n",
    "Pero, la densidad de los clusters es variable, por eso DBSCAN, obtuvo malos resultados."
   ]
  },
  {
   "cell_type": "markdown",
   "id": "4a5efa51",
   "metadata": {},
   "source": [
    "## 3. K-Means"
   ]
  },
  {
   "cell_type": "code",
   "execution_count": 38,
   "id": "50b2e285-280d-455c-acc5-142a90f3446f",
   "metadata": {},
   "outputs": [
    {
     "data": {
      "text/html": [
       "\n",
       "    <button type=\"button\" id=\"co3\" onclick=\"code_toggle('co3')\">Codigo</button>\n",
       "    <script>\n",
       "    function code_toggle(my_id) {\n",
       "        // get the parent element for the cell code and output\n",
       "        var p = $(\"#\"+my_id);\n",
       "        if (p.length==0) return;\n",
       "        while (!p.hasClass(\"cell\")) {\n",
       "            p = p.parent();\n",
       "            if (p.prop(\"tagName\") ==\"body\") return;\n",
       "        }\n",
       "    // get the cell code and toggle its value\n",
       "    var cell_code = p.find(\".input\");\n",
       "    cell_code.toggle();\n",
       "    }\n",
       "    </script>\n",
       "    "
      ]
     },
     "metadata": {},
     "output_type": "display_data"
    }
   ],
   "source": [
    "toggle_cell_code('co3')\n",
    "df3=df.copy()"
   ]
  },
  {
   "cell_type": "code",
   "execution_count": 39,
   "id": "57d78d75-4542-44f8-9552-eac0451e4706",
   "metadata": {},
   "outputs": [
    {
     "data": {
      "text/html": [
       "\n",
       "    <button type=\"button\" id=\"co4\" onclick=\"code_toggle('co4')\">Codigo</button>\n",
       "    <script>\n",
       "    function code_toggle(my_id) {\n",
       "        // get the parent element for the cell code and output\n",
       "        var p = $(\"#\"+my_id);\n",
       "        if (p.length==0) return;\n",
       "        while (!p.hasClass(\"cell\")) {\n",
       "            p = p.parent();\n",
       "            if (p.prop(\"tagName\") ==\"body\") return;\n",
       "        }\n",
       "    // get the cell code and toggle its value\n",
       "    var cell_code = p.find(\".input\");\n",
       "    cell_code.toggle();\n",
       "    }\n",
       "    </script>\n",
       "    "
      ]
     },
     "metadata": {},
     "output_type": "display_data"
    }
   ],
   "source": [
    "toggle_cell_code('co4')\n",
    "from sklearn.cluster import KMeans"
   ]
  },
  {
   "cell_type": "code",
   "execution_count": 40,
   "id": "960d4d74-a5ab-4b09-ba04-d98c6f55ef94",
   "metadata": {},
   "outputs": [
    {
     "data": {
      "text/html": [
       "\n",
       "    <button type=\"button\" id=\"co6\" onclick=\"code_toggle('co6')\">Codigo</button>\n",
       "    <script>\n",
       "    function code_toggle(my_id) {\n",
       "        // get the parent element for the cell code and output\n",
       "        var p = $(\"#\"+my_id);\n",
       "        if (p.length==0) return;\n",
       "        while (!p.hasClass(\"cell\")) {\n",
       "            p = p.parent();\n",
       "            if (p.prop(\"tagName\") ==\"body\") return;\n",
       "        }\n",
       "    // get the cell code and toggle its value\n",
       "    var cell_code = p.find(\".input\");\n",
       "    cell_code.toggle();\n",
       "    }\n",
       "    </script>\n",
       "    "
      ]
     },
     "metadata": {},
     "output_type": "display_data"
    }
   ],
   "source": [
    "toggle_cell_code('co6')\n",
    "kmeans2 = KMeans(n_clusters = 2)\n",
    "clusters = kmeans2.fit_predict(datac)\n",
    "df3[\"label\"] = clusters"
   ]
  },
  {
   "cell_type": "markdown",
   "id": "8a360a9b",
   "metadata": {},
   "source": [
    "## Accuracy"
   ]
  },
  {
   "cell_type": "code",
   "execution_count": 41,
   "id": "da1fffa8-0a53-43df-9f90-4f4ce4be35ca",
   "metadata": {
    "scrolled": true
   },
   "outputs": [
    {
     "data": {
      "text/html": [
       "\n",
       "    <button type=\"button\" id=\"co7\" onclick=\"code_toggle('co7')\">Codigo</button>\n",
       "    <script>\n",
       "    function code_toggle(my_id) {\n",
       "        // get the parent element for the cell code and output\n",
       "        var p = $(\"#\"+my_id);\n",
       "        if (p.length==0) return;\n",
       "        while (!p.hasClass(\"cell\")) {\n",
       "            p = p.parent();\n",
       "            if (p.prop(\"tagName\") ==\"body\") return;\n",
       "        }\n",
       "    // get the cell code and toggle its value\n",
       "    var cell_code = p.find(\".input\");\n",
       "    cell_code.toggle();\n",
       "    }\n",
       "    </script>\n",
       "    "
      ]
     },
     "metadata": {},
     "output_type": "display_data"
    },
    {
     "name": "stdout",
     "output_type": "stream",
     "text": [
      "accuracy is : 23.225806451612897\n"
     ]
    }
   ],
   "source": [
    "toggle_cell_code('co7')\n",
    "dfn=df.copy()\n",
    "dfn[\"class\"] = [1 if each == \"Hernia \" else 0 for each in dfn[\"class\"]]\n",
    "df_class = dfn[\"class\"]\n",
    "predict_class = df3[\"label\"]\n",
    "print(\"accuracy is : {}\".format(100 - np.mean(np.abs(df_class - predict_class)*100)))\n",
    "kmeans_accuracy = int(100 - np.mean(np.abs(df_class - predict_class)*100))"
   ]
  },
  {
   "cell_type": "markdown",
   "id": "de39ac64",
   "metadata": {},
   "source": [
    "## Gráfico de K-means"
   ]
  },
  {
   "cell_type": "code",
   "execution_count": 42,
   "id": "d1c9c37f-9379-46d7-85f8-f553aa61c2c3",
   "metadata": {},
   "outputs": [
    {
     "data": {
      "text/html": [
       "\n",
       "    <button type=\"button\" id=\"co8\" onclick=\"code_toggle('co8')\">Codigo</button>\n",
       "    <script>\n",
       "    function code_toggle(my_id) {\n",
       "        // get the parent element for the cell code and output\n",
       "        var p = $(\"#\"+my_id);\n",
       "        if (p.length==0) return;\n",
       "        while (!p.hasClass(\"cell\")) {\n",
       "            p = p.parent();\n",
       "            if (p.prop(\"tagName\") ==\"body\") return;\n",
       "        }\n",
       "    // get the cell code and toggle its value\n",
       "    var cell_code = p.find(\".input\");\n",
       "    cell_code.toggle();\n",
       "    }\n",
       "    </script>\n",
       "    "
      ]
     },
     "metadata": {},
     "output_type": "display_data"
    },
    {
     "data": {
      "text/plain": [
       "<matplotlib.collections.PathCollection at 0x1e0dc538b50>"
      ]
     },
     "execution_count": 42,
     "metadata": {},
     "output_type": "execute_result"
    },
    {
     "data": {
      "image/png": "[encoded data removed]",
      "text/plain": [
       "<Figure size 432x288 with 1 Axes>"
      ]
     },
     "metadata": {
      "needs_background": "light"
     },
     "output_type": "display_data"
    }
   ],
   "source": [
    "toggle_cell_code('co8')\n",
    "plt.scatter(x = df3[df3.label == 0].pelvic_radius,y = df3[df3.label == 0].degree_spondylolisthesis , color = \"yellow\")\n",
    "plt.scatter(x = df3[df3.label == 1].pelvic_radius,y = df3[df3.label == 1].degree_spondylolisthesis , color = \"red\")"
   ]
  },
  {
   "cell_type": "code",
   "execution_count": 43,
   "id": "e1e828b2",
   "metadata": {},
   "outputs": [
    {
     "data": {
      "text/html": [
       "\n",
       "    <button type=\"button\" id=\"co9\" onclick=\"code_toggle('co9')\">Codigo</button>\n",
       "    <script>\n",
       "    function code_toggle(my_id) {\n",
       "        // get the parent element for the cell code and output\n",
       "        var p = $(\"#\"+my_id);\n",
       "        if (p.length==0) return;\n",
       "        while (!p.hasClass(\"cell\")) {\n",
       "            p = p.parent();\n",
       "            if (p.prop(\"tagName\") ==\"body\") return;\n",
       "        }\n",
       "    // get the cell code and toggle its value\n",
       "    var cell_code = p.find(\".input\");\n",
       "    cell_code.toggle();\n",
       "    }\n",
       "    </script>\n",
       "    "
      ]
     },
     "metadata": {},
     "output_type": "display_data"
    },
    {
     "data": {
      "text/plain": [
       "1    238\n",
       "0     72\n",
       "Name: label, dtype: int64"
      ]
     },
     "execution_count": 43,
     "metadata": {},
     "output_type": "execute_result"
    }
   ],
   "source": [
    "toggle_cell_code('co9')\n",
    "pd.value_counts(df3['label'])"
   ]
  },
  {
   "cell_type": "markdown",
   "id": "776c51dd",
   "metadata": {},
   "source": [
    "# 4. Hierarchical Clustering\n",
    "Método que arrojó los mejores resultados"
   ]
  },
  {
   "cell_type": "code",
   "execution_count": 65,
   "id": "aeb071fb-3974-4334-b4b2-4fc1653cc106",
   "metadata": {},
   "outputs": [
    {
     "data": {
      "text/html": [
       "\n",
       "    <button type=\"button\" id=\"co_\" onclick=\"code_toggle('co_')\">Codigo</button>\n",
       "    <script>\n",
       "    function code_toggle(my_id) {\n",
       "        // get the parent element for the cell code and output\n",
       "        var p = $(\"#\"+my_id);\n",
       "        if (p.length==0) return;\n",
       "        while (!p.hasClass(\"cell\")) {\n",
       "            p = p.parent();\n",
       "            if (p.prop(\"tagName\") ==\"body\") return;\n",
       "        }\n",
       "    // get the cell code and toggle its value\n",
       "    var cell_code = p.find(\".input\");\n",
       "    cell_code.toggle();\n",
       "    }\n",
       "    </script>\n",
       "    "
      ]
     },
     "metadata": {},
     "output_type": "display_data"
    }
   ],
   "source": [
    "toggle_cell_code('co_')\n",
    "df4=df.copy()"
   ]
  },
  {
   "cell_type": "code",
   "execution_count": 66,
   "id": "07d0f711-490d-426e-87b1-bc1c7c4f837a",
   "metadata": {},
   "outputs": [
    {
     "data": {
      "text/html": [
       "\n",
       "    <button type=\"button\" id=\"co_1\" onclick=\"code_toggle('co_1')\">Codigo</button>\n",
       "    <script>\n",
       "    function code_toggle(my_id) {\n",
       "        // get the parent element for the cell code and output\n",
       "        var p = $(\"#\"+my_id);\n",
       "        if (p.length==0) return;\n",
       "        while (!p.hasClass(\"cell\")) {\n",
       "            p = p.parent();\n",
       "            if (p.prop(\"tagName\") ==\"body\") return;\n",
       "        }\n",
       "    // get the cell code and toggle its value\n",
       "    var cell_code = p.find(\".input\");\n",
       "    cell_code.toggle();\n",
       "    }\n",
       "    </script>\n",
       "    "
      ]
     },
     "metadata": {},
     "output_type": "display_data"
    }
   ],
   "source": [
    "toggle_cell_code('co_1')\n",
    "from scipy.cluster.hierarchy import linkage, dendrogram\n",
    "from sklearn.cluster import AgglomerativeClustering"
   ]
  },
  {
   "cell_type": "markdown",
   "id": "ae0b6898-d477-4eaf-9ca9-6a48614a9bfc",
   "metadata": {},
   "source": [
    "linkage: El criterio de vinculación determina qué distancia usar entre conjuntos de observación.\n",
    "\n",
    "ward: minimiza la varianza de los grupos que se fusionan"
   ]
  },
  {
   "cell_type": "code",
   "execution_count": 67,
   "id": "61e3ee51-95df-429e-aaae-074b7ab68bf8",
   "metadata": {},
   "outputs": [
    {
     "data": {
      "text/html": [
       "\n",
       "    <button type=\"button\" id=\"co_2\" onclick=\"code_toggle('co_2')\">Codigo</button>\n",
       "    <script>\n",
       "    function code_toggle(my_id) {\n",
       "        // get the parent element for the cell code and output\n",
       "        var p = $(\"#\"+my_id);\n",
       "        if (p.length==0) return;\n",
       "        while (!p.hasClass(\"cell\")) {\n",
       "            p = p.parent();\n",
       "            if (p.prop(\"tagName\") ==\"body\") return;\n",
       "        }\n",
       "    // get the cell code and toggle its value\n",
       "    var cell_code = p.find(\".input\");\n",
       "    cell_code.toggle();\n",
       "    }\n",
       "    </script>\n",
       "    "
      ]
     },
     "metadata": {},
     "output_type": "display_data"
    },
    {
     "data": {
      "image/png": "[encoded data removed]",
      "text/plain": [
       "<Figure size 432x288 with 1 Axes>"
      ]
     },
     "metadata": {
      "needs_background": "light"
     },
     "output_type": "display_data"
    }
   ],
   "source": [
    "toggle_cell_code('co_2')\n",
    "merg = linkage(datac.iloc[200:220,:],method=\"ward\")\n",
    "dendrogram(merg)\n",
    "plt.xlabel(\"Datos\")\n",
    "plt.ylabel(\"Distancia\")\n",
    "plt.show()"
   ]
  },
  {
   "cell_type": "markdown",
   "id": "204ae0f2",
   "metadata": {},
   "source": [
    "Se hace fit"
   ]
  },
  {
   "cell_type": "code",
   "execution_count": 68,
   "id": "4434a16b-219f-4dcd-8d56-d26c9337b525",
   "metadata": {
    "scrolled": true
   },
   "outputs": [
    {
     "data": {
      "text/html": [
       "\n",
       "    <button type=\"button\" id=\"co_3\" onclick=\"code_toggle('co_3')\">Codigo</button>\n",
       "    <script>\n",
       "    function code_toggle(my_id) {\n",
       "        // get the parent element for the cell code and output\n",
       "        var p = $(\"#\"+my_id);\n",
       "        if (p.length==0) return;\n",
       "        while (!p.hasClass(\"cell\")) {\n",
       "            p = p.parent();\n",
       "            if (p.prop(\"tagName\") ==\"body\") return;\n",
       "        }\n",
       "    // get the cell code and toggle its value\n",
       "    var cell_code = p.find(\".input\");\n",
       "    cell_code.toggle();\n",
       "    }\n",
       "    </script>\n",
       "    "
      ]
     },
     "metadata": {},
     "output_type": "display_data"
    }
   ],
   "source": [
    "toggle_cell_code('co_3')\n",
    "Hcluster = AgglomerativeClustering(n_clusters = 2,affinity= \"euclidean\",linkage = \"ward\")\n",
    "cluster = Hcluster.fit_predict(datac)\n",
    "\n",
    "df4[\"label\"] = cluster"
   ]
  },
  {
   "cell_type": "markdown",
   "id": "d72102c7",
   "metadata": {},
   "source": [
    "## Gráfico de clustering glomerativo"
   ]
  },
  {
   "cell_type": "markdown",
   "id": "3f4abd66-437c-4dea-882c-d01c83903f8a",
   "metadata": {},
   "source": [
    "Ahora vamos a organizar el dataset para visualizar los cluster"
   ]
  },
  {
   "cell_type": "code",
   "execution_count": 69,
   "id": "12d7625a",
   "metadata": {
    "scrolled": true
   },
   "outputs": [
    {
     "data": {
      "text/html": [
       "\n",
       "    <button type=\"button\" id=\"co_4\" onclick=\"code_toggle('co_4')\">Codigo</button>\n",
       "    <script>\n",
       "    function code_toggle(my_id) {\n",
       "        // get the parent element for the cell code and output\n",
       "        var p = $(\"#\"+my_id);\n",
       "        if (p.length==0) return;\n",
       "        while (!p.hasClass(\"cell\")) {\n",
       "            p = p.parent();\n",
       "            if (p.prop(\"tagName\") ==\"body\") return;\n",
       "        }\n",
       "    // get the cell code and toggle its value\n",
       "    var cell_code = p.find(\".input\");\n",
       "    cell_code.toggle();\n",
       "    }\n",
       "    </script>\n",
       "    "
      ]
     },
     "metadata": {},
     "output_type": "display_data"
    },
    {
     "data": {
      "text/plain": [
       "<matplotlib.collections.PathCollection at 0x1e0ddd2dc40>"
      ]
     },
     "execution_count": 69,
     "metadata": {},
     "output_type": "execute_result"
    },
    {
     "data": {
      "image/png": "[encoded data removed]",
      "text/plain": [
       "<Figure size 432x288 with 1 Axes>"
      ]
     },
     "metadata": {
      "needs_background": "light"
     },
     "output_type": "display_data"
    }
   ],
   "source": [
    "toggle_cell_code('co_4')\n",
    "plt.scatter(x = df4[df4.label == 0].pelvic_radius,y = df4[df4.label == 0].degree_spondylolisthesis , color = \"red\")\n",
    "plt.scatter(x = df4[df4.label == 1].pelvic_radius,y = df4[df4.label == 1].degree_spondylolisthesis , color = \"yellow\")"
   ]
  },
  {
   "cell_type": "code",
   "execution_count": 70,
   "id": "8f03cad3-5bf1-4182-a175-a4f45fd723ef",
   "metadata": {},
   "outputs": [
    {
     "data": {
      "text/html": [
       "\n",
       "    <button type=\"button\" id=\"co_5\" onclick=\"code_toggle('co_5')\">Codigo</button>\n",
       "    <script>\n",
       "    function code_toggle(my_id) {\n",
       "        // get the parent element for the cell code and output\n",
       "        var p = $(\"#\"+my_id);\n",
       "        if (p.length==0) return;\n",
       "        while (!p.hasClass(\"cell\")) {\n",
       "            p = p.parent();\n",
       "            if (p.prop(\"tagName\") ==\"body\") return;\n",
       "        }\n",
       "    // get the cell code and toggle its value\n",
       "    var cell_code = p.find(\".input\");\n",
       "    cell_code.toggle();\n",
       "    }\n",
       "    </script>\n",
       "    "
      ]
     },
     "metadata": {},
     "output_type": "display_data"
    },
    {
     "data": {
      "text/plain": [
       "1    163\n",
       "0    147\n",
       "Name: label, dtype: int64"
      ]
     },
     "execution_count": 70,
     "metadata": {},
     "output_type": "execute_result"
    }
   ],
   "source": [
    "toggle_cell_code('co_5')\n",
    "pd.value_counts(df4['label'])"
   ]
  },
  {
   "cell_type": "code",
   "execution_count": 71,
   "id": "f7a7e80e-1402-4fe2-9203-b5f0d7aecf62",
   "metadata": {},
   "outputs": [
    {
     "data": {
      "text/html": [
       "\n",
       "    <button type=\"button\" id=\"co_6\" onclick=\"code_toggle('co_6')\">Codigo</button>\n",
       "    <script>\n",
       "    function code_toggle(my_id) {\n",
       "        // get the parent element for the cell code and output\n",
       "        var p = $(\"#\"+my_id);\n",
       "        if (p.length==0) return;\n",
       "        while (!p.hasClass(\"cell\")) {\n",
       "            p = p.parent();\n",
       "            if (p.prop(\"tagName\") ==\"body\") return;\n",
       "        }\n",
       "    // get the cell code and toggle its value\n",
       "    var cell_code = p.find(\".input\");\n",
       "    cell_code.toggle();\n",
       "    }\n",
       "    </script>\n",
       "    "
      ]
     },
     "metadata": {},
     "output_type": "display_data"
    }
   ],
   "source": [
    "toggle_cell_code('co_6')\n",
    "dfn=df.copy()\n",
    "dfn[\"class\"] = [0 if each == \"Spondylolisthesis\" else 1 for each in dfn[\"class\"]]"
   ]
  },
  {
   "cell_type": "markdown",
   "id": "622d2142",
   "metadata": {},
   "source": [
    "## Accuracy Hierarchical Clustering"
   ]
  },
  {
   "cell_type": "code",
   "execution_count": 72,
   "id": "910907ac-af8d-4599-99af-bd9dbbdf66ad",
   "metadata": {
    "scrolled": true
   },
   "outputs": [
    {
     "data": {
      "text/html": [
       "\n",
       "    <button type=\"button\" id=\"co_7\" onclick=\"code_toggle('co_7')\">Codigo</button>\n",
       "    <script>\n",
       "    function code_toggle(my_id) {\n",
       "        // get the parent element for the cell code and output\n",
       "        var p = $(\"#\"+my_id);\n",
       "        if (p.length==0) return;\n",
       "        while (!p.hasClass(\"cell\")) {\n",
       "            p = p.parent();\n",
       "            if (p.prop(\"tagName\") ==\"body\") return;\n",
       "        }\n",
       "    // get the cell code and toggle its value\n",
       "    var cell_code = p.find(\".input\");\n",
       "    cell_code.toggle();\n",
       "    }\n",
       "    </script>\n",
       "    "
      ]
     },
     "metadata": {},
     "output_type": "display_data"
    },
    {
     "name": "stdout",
     "output_type": "stream",
     "text": [
      "accuracy is : 97.74193548387096\n"
     ]
    }
   ],
   "source": [
    "toggle_cell_code('co_7')\n",
    "df_class = dfn[\"class\"]\n",
    "predict_class = df4[\"label\"]\n",
    "print(\"accuracy is : {}\".format(100 - np.mean(np.abs(df_class - predict_class)*100)))\n",
    "kmeans_accuracy = int(100 - np.mean(np.abs(df_class - predict_class)*100))"
   ]
  },
  {
   "cell_type": "markdown",
   "id": "3cc5ca8f",
   "metadata": {},
   "source": [
    "## Gráfico clustering aglomerativo con EDA"
   ]
  },
  {
   "cell_type": "code",
   "execution_count": 73,
   "id": "ab64acfb",
   "metadata": {},
   "outputs": [
    {
     "data": {
      "text/html": [
       "\n",
       "    <button type=\"button\" id=\"co_n\" onclick=\"code_toggle('co_n')\">Codigo</button>\n",
       "    <script>\n",
       "    function code_toggle(my_id) {\n",
       "        // get the parent element for the cell code and output\n",
       "        var p = $(\"#\"+my_id);\n",
       "        if (p.length==0) return;\n",
       "        while (!p.hasClass(\"cell\")) {\n",
       "            p = p.parent();\n",
       "            if (p.prop(\"tagName\") ==\"body\") return;\n",
       "        }\n",
       "    // get the cell code and toggle its value\n",
       "    var cell_code = p.find(\".input\");\n",
       "    cell_code.toggle();\n",
       "    }\n",
       "    </script>\n",
       "    "
      ]
     },
     "metadata": {},
     "output_type": "display_data"
    },
    {
     "data": {
      "text/plain": [
       "<matplotlib.collections.PathCollection at 0x1e0de21c070>"
      ]
     },
     "execution_count": 73,
     "metadata": {},
     "output_type": "execute_result"
    },
    {
     "data": {
      "image/png": "[encoded data removed]",
      "text/plain": [
       "<Figure size 432x288 with 1 Axes>"
      ]
     },
     "metadata": {
      "needs_background": "light"
     },
     "output_type": "display_data"
    }
   ],
   "source": [
    "dfoo=dfo.copy()\n",
    "\n",
    "x2 = dfoo[\"RP\"]\n",
    "y2 = dfoo[\"GE\"]\n",
    "\n",
    "cluster_data_Aux2 = {\"x\":x2,\"y\":y2}\n",
    "datac2 = pd.DataFrame(cluster_data_Aux2)\n",
    "\n",
    "\n",
    "toggle_cell_code('co_n')\n",
    "Hcluster2 = AgglomerativeClustering(n_clusters = 2,affinity= \"euclidean\",linkage = \"ward\")\n",
    "cluster = Hcluster2.fit_predict(datac2)\n",
    "\n",
    "dfoo[\"label\"] = cluster\n",
    "\n",
    "\n",
    "plt.scatter(x = dfoo[dfoo.label == 0].RP,y = dfoo[dfoo.label == 0].GE , color = \"red\")\n",
    "plt.scatter(x = dfoo[dfoo.label == 1].RP,y = dfoo[dfoo.label == 1].GE , color = \"yellow\")\n",
    "\n",
    "\n"
   ]
  },
  {
   "cell_type": "markdown",
   "id": "ef26e7d8-7a97-4f86-b821-fb394ba73863",
   "metadata": {},
   "source": [
    "# Grafico comparativo "
   ]
  },
  {
   "cell_type": "code",
   "execution_count": 74,
   "id": "9c5a3106-31f3-4517-a812-63854672fa4a",
   "metadata": {},
   "outputs": [
    {
     "data": {
      "text/html": [
       "\n",
       "    <button type=\"button\" id=\"co_8\" onclick=\"code_toggle('co_8')\">Codigo</button>\n",
       "    <script>\n",
       "    function code_toggle(my_id) {\n",
       "        // get the parent element for the cell code and output\n",
       "        var p = $(\"#\"+my_id);\n",
       "        if (p.length==0) return;\n",
       "        while (!p.hasClass(\"cell\")) {\n",
       "            p = p.parent();\n",
       "            if (p.prop(\"tagName\") ==\"body\") return;\n",
       "        }\n",
       "    // get the cell code and toggle its value\n",
       "    var cell_code = p.find(\".input\");\n",
       "    cell_code.toggle();\n",
       "    }\n",
       "    </script>\n",
       "    "
      ]
     },
     "metadata": {},
     "output_type": "display_data"
    },
    {
     "data": {
      "image/png": "[encoded data removed]",
      "text/plain": [
       "<Figure size 1440x720 with 3 Axes>"
      ]
     },
     "metadata": {
      "needs_background": "light"
     },
     "output_type": "display_data"
    },
    {
     "data": {
      "image/png": "[encoded data removed]",
      "text/plain": [
       "<Figure size 1440x720 with 2 Axes>"
      ]
     },
     "metadata": {
      "needs_background": "light"
     },
     "output_type": "display_data"
    },
    {
     "data": {
      "image/png": "[encoded data removed]",
      "text/plain": [
       "<Figure size 1440x720 with 2 Axes>"
      ]
     },
     "metadata": {
      "needs_background": "light"
     },
     "output_type": "display_data"
    }
   ],
   "source": [
    "toggle_cell_code('co_8')\n",
    "#We compare our model in graph\n",
    "fig = plt.figure(figsize = (20,10))\n",
    "\n",
    "plt.subplot(2, 3, 3)\n",
    "plt.scatter(x = df3[df3.label == 0].pelvic_radius,y = df3[df3.label == 0].degree_spondylolisthesis , color = \"red\")\n",
    "plt.scatter(x = df3[df3.label == 1].pelvic_radius,y = df3[df3.label == 1].degree_spondylolisthesis , color = \"yellow\")\n",
    "plt.title(\"K-Means\")\n",
    "\n",
    "plt.subplot(2, 3, 1)\n",
    "plt.scatter(x = df1[df1.label == 0].pelvic_radius,y = df1[df1.label == 0].degree_spondylolisthesis , color = \"yellow\")\n",
    "plt.scatter(x = df1[df1.label == 1].pelvic_radius,y = df1[df1.label == 1].degree_spondylolisthesis , color = \"red\")\n",
    "plt.scatter(x = df1[df1.label == 2].pelvic_radius,y = df1[df1.label == 2].degree_spondylolisthesis , color = \"orange\")\n",
    "plt.scatter(x = df1[df1.label == 3].pelvic_radius,y = df1[df1.label == 3].degree_spondylolisthesis , color = \"black\")\n",
    "plt.title(\"MeanShift\") \n",
    "\n",
    "plt.subplot(2, 3, 2)\n",
    "plt.scatter(x = df2[df2.label == -1].pelvic_radius,y = df2[df2.label == -1].degree_spondylolisthesis , color = \"black\")\n",
    "plt.scatter(x = df2[df2.label == 0].pelvic_radius,y = df2[df2.label == 0].degree_spondylolisthesis , color = \"yellow\")\n",
    "plt.scatter(x = df2[df2.label == 1].pelvic_radius,y = df2[df2.label == 1].degree_spondylolisthesis , color = \"red\")\n",
    "plt.title(\"DBSCAN\")\n",
    "plt.show()\n",
    "\n",
    "fig = plt.figure(figsize = (20,10))\n",
    "\n",
    "plt.subplot(2, 2, 1)\n",
    "plt.scatter(x = df[df[\"class\"] == \"Spondylolisthesis\"].pelvic_radius , y = df[df[\"class\"] == \"Spondylolisthesis\"].degree_spondylolisthesis,color = \"red\")\n",
    "plt.scatter(x = df[df[\"class\"] == \"Hernia\"].pelvic_radius , y = df[df[\"class\"] == \"Hernia\"].degree_spondylolisthesis,color = \"yellow\")\n",
    "plt.title(\"Referencia\")\n",
    "\n",
    "plt.subplot(2, 2, 2)\n",
    "plt.scatter(x = df4[df4.label == 0].pelvic_radius,y = df4[df4.label == 0].degree_spondylolisthesis , color = \"red\")\n",
    "plt.scatter(x = df4[df4.label == 1].pelvic_radius,y = df4[df4.label == 1].degree_spondylolisthesis , color = \"yellow\")\n",
    "plt.title(\"Aglomerativo\") \n",
    "\n",
    "plt.show()\n",
    "\n",
    "\n",
    "\n",
    "\n",
    "fig = plt.figure(figsize = (20,10))\n",
    "\n",
    "plt.subplot(2, 2, 1)\n",
    "plt.scatter(x = dfo[dfo[\"class\"] == \"Spondylolisthesis\"].RP, y = dfo[dfo[\"class\"] == \"Spondylolisthesis\"].GE,color = \"red\")\n",
    "plt.scatter(x = dfo[dfo[\"class\"] == \"Hernia\"].RP , y = dfo[dfo[\"class\"] == \"Hernia\"].GE,color = \"yellow\")\n",
    "plt.title(\"Referencia EDA\")\n",
    "\n",
    "plt.subplot(2, 2, 2)\n",
    "plt.scatter(x = dfoo[dfoo.label == 0].RP,y = dfoo[dfoo.label == 0].GE , color = \"red\")\n",
    "plt.scatter(x = dfoo[dfoo.label == 1].RP,y = dfoo[dfoo.label == 1].GE , color = \"yellow\")\n",
    "plt.title(\"Aglomerativo EDA\") \n",
    "\n",
    "plt.show()"
   ]
  },
  {
   "cell_type": "code",
   "execution_count": 75,
   "id": "4ac46876-8cce-4155-bc2e-25a1fcfd7c89",
   "metadata": {},
   "outputs": [
    {
     "data": {
      "text/html": [
       "\n",
       "    <button type=\"button\" id=\"co_9\" onclick=\"code_toggle('co_9')\">Codigo</button>\n",
       "    <script>\n",
       "    function code_toggle(my_id) {\n",
       "        // get the parent element for the cell code and output\n",
       "        var p = $(\"#\"+my_id);\n",
       "        if (p.length==0) return;\n",
       "        while (!p.hasClass(\"cell\")) {\n",
       "            p = p.parent();\n",
       "            if (p.prop(\"tagName\") ==\"body\") return;\n",
       "        }\n",
       "    // get the cell code and toggle its value\n",
       "    var cell_code = p.find(\".input\");\n",
       "    cell_code.toggle();\n",
       "    }\n",
       "    </script>\n",
       "    "
      ]
     },
     "metadata": {},
     "output_type": "display_data"
    }
   ],
   "source": [
    "toggle_cell_code('co_9')\n",
    "df4=df4.drop([\"degree_spondylolisthesis\"], axis=1)"
   ]
  },
  {
   "cell_type": "code",
   "execution_count": 76,
   "id": "d2670a70-af4c-46d8-9f87-0e2b9fc91963",
   "metadata": {},
   "outputs": [
    {
     "data": {
      "text/html": [
       "\n",
       "    <button type=\"button\" id=\"co_11\" onclick=\"code_toggle('co_11')\">Codigo</button>\n",
       "    <script>\n",
       "    function code_toggle(my_id) {\n",
       "        // get the parent element for the cell code and output\n",
       "        var p = $(\"#\"+my_id);\n",
       "        if (p.length==0) return;\n",
       "        while (!p.hasClass(\"cell\")) {\n",
       "            p = p.parent();\n",
       "            if (p.prop(\"tagName\") ==\"body\") return;\n",
       "        }\n",
       "    // get the cell code and toggle its value\n",
       "    var cell_code = p.find(\".input\");\n",
       "    cell_code.toggle();\n",
       "    }\n",
       "    </script>\n",
       "    "
      ]
     },
     "metadata": {},
     "output_type": "display_data"
    }
   ],
   "source": [
    "toggle_cell_code('co_11')\n",
    "from sklearn.metrics import classification_report, confusion_matrix, accuracy_score"
   ]
  },
  {
   "cell_type": "markdown",
   "id": "a9ca27e4-b56c-46cf-a156-9796c60de5ad",
   "metadata": {},
   "source": [
    "## Métricas de error "
   ]
  },
  {
   "cell_type": "code",
   "execution_count": 77,
   "id": "7b4f1564-fba3-41df-bbec-3dd4de3da319",
   "metadata": {
    "scrolled": true
   },
   "outputs": [
    {
     "data": {
      "text/html": [
       "\n",
       "    <button type=\"button\" id=\"co_12\" onclick=\"code_toggle('co_12')\">Codigo</button>\n",
       "    <script>\n",
       "    function code_toggle(my_id) {\n",
       "        // get the parent element for the cell code and output\n",
       "        var p = $(\"#\"+my_id);\n",
       "        if (p.length==0) return;\n",
       "        while (!p.hasClass(\"cell\")) {\n",
       "            p = p.parent();\n",
       "            if (p.prop(\"tagName\") ==\"body\") return;\n",
       "        }\n",
       "    // get the cell code and toggle its value\n",
       "    var cell_code = p.find(\".input\");\n",
       "    cell_code.toggle();\n",
       "    }\n",
       "    </script>\n",
       "    "
      ]
     },
     "metadata": {},
     "output_type": "display_data"
    },
    {
     "name": "stdout",
     "output_type": "stream",
     "text": [
      "              precision    recall  f1-score   support\n",
      "\n",
      "           0       0.99      0.97      0.98       150\n",
      "           1       0.97      0.99      0.98       160\n",
      "\n",
      "    accuracy                           0.98       310\n",
      "   macro avg       0.98      0.98      0.98       310\n",
      "weighted avg       0.98      0.98      0.98       310\n",
      "\n"
     ]
    }
   ],
   "source": [
    "toggle_cell_code('co_12')\n",
    "print(classification_report(df_class,predict_class))"
   ]
  },
  {
   "cell_type": "code",
   "execution_count": 78,
   "id": "26dd55c2",
   "metadata": {
    "scrolled": true
   },
   "outputs": [
    {
     "data": {
      "text/html": [
       "\n",
       "    <button type=\"button\" id=\"co_7\" onclick=\"code_toggle('co_7')\">Codigo</button>\n",
       "    <script>\n",
       "    function code_toggle(my_id) {\n",
       "        // get the parent element for the cell code and output\n",
       "        var p = $(\"#\"+my_id);\n",
       "        if (p.length==0) return;\n",
       "        while (!p.hasClass(\"cell\")) {\n",
       "            p = p.parent();\n",
       "            if (p.prop(\"tagName\") ==\"body\") return;\n",
       "        }\n",
       "    // get the cell code and toggle its value\n",
       "    var cell_code = p.find(\".input\");\n",
       "    cell_code.toggle();\n",
       "    }\n",
       "    </script>\n",
       "    "
      ]
     },
     "metadata": {},
     "output_type": "display_data"
    },
    {
     "name": "stdout",
     "output_type": "stream",
     "text": [
      "accuracy is : 97.74193548387096\n"
     ]
    }
   ],
   "source": [
    "toggle_cell_code('co_7')\n",
    "\n",
    "df_class = dfn[\"class\"]\n",
    "predict_class = df4[\"label\"]\n",
    "print(\"accuracy is : {}\".format(100 - np.mean(np.abs(df_class - predict_class)*100)))\n",
    "kmeans_accuracy = int(100 - np.mean(np.abs(df_class - predict_class)*100))"
   ]
  },
  {
   "cell_type": "markdown",
   "id": "85b47cca",
   "metadata": {},
   "source": [
    "## Matriz de confución del Hierarchical Clustering"
   ]
  },
  {
   "cell_type": "code",
   "execution_count": 59,
   "id": "f42e0687-ae4b-4d2c-9498-e59af4907846",
   "metadata": {},
   "outputs": [
    {
     "data": {
      "text/html": [
       "\n",
       "    <button type=\"button\" id=\"co_14\" onclick=\"code_toggle('co_14')\">Codigo</button>\n",
       "    <script>\n",
       "    function code_toggle(my_id) {\n",
       "        // get the parent element for the cell code and output\n",
       "        var p = $(\"#\"+my_id);\n",
       "        if (p.length==0) return;\n",
       "        while (!p.hasClass(\"cell\")) {\n",
       "            p = p.parent();\n",
       "            if (p.prop(\"tagName\") ==\"body\") return;\n",
       "        }\n",
       "    // get the cell code and toggle its value\n",
       "    var cell_code = p.find(\".input\");\n",
       "    cell_code.toggle();\n",
       "    }\n",
       "    </script>\n",
       "    "
      ]
     },
     "metadata": {},
     "output_type": "display_data"
    },
    {
     "name": "stdout",
     "output_type": "stream",
     "text": [
      "Las clases son: 0) cero, Espondilolistesis; 1) uno, Hernia\n"
     ]
    },
    {
     "data": {
      "image/png": "[encoded data removed]",
      "text/plain": [
       "<Figure size 864x576 with 2 Axes>"
      ]
     },
     "metadata": {
      "needs_background": "light"
     },
     "output_type": "display_data"
    }
   ],
   "source": [
    "toggle_cell_code('co_14')\n",
    "\n",
    "fig, ax=plt.subplots(1,1,figsize=(12,8))\n",
    "\n",
    "#fig, ax=plt.subplots()\n",
    "sns.heatmap(confusion_matrix(df_class, predict_class),label='Hola',annot=True)\n",
    "#ax.legend()\n",
    "print('Las clases son: 0) cero, Espondilolistesis; 1) uno, Hernia')"
   ]
  },
  {
   "cell_type": "code",
   "execution_count": 60,
   "id": "d39af880-5728-4873-b1e0-f8b2bee8fea4",
   "metadata": {},
   "outputs": [
    {
     "data": {
      "text/html": [
       "\n",
       "    <button type=\"button\" id=\"co_15\" onclick=\"code_toggle('co_15')\">Codigo</button>\n",
       "    <script>\n",
       "    function code_toggle(my_id) {\n",
       "        // get the parent element for the cell code and output\n",
       "        var p = $(\"#\"+my_id);\n",
       "        if (p.length==0) return;\n",
       "        while (!p.hasClass(\"cell\")) {\n",
       "            p = p.parent();\n",
       "            if (p.prop(\"tagName\") ==\"body\") return;\n",
       "        }\n",
       "    // get the cell code and toggle its value\n",
       "    var cell_code = p.find(\".input\");\n",
       "    cell_code.toggle();\n",
       "    }\n",
       "    </script>\n",
       "    "
      ]
     },
     "metadata": {},
     "output_type": "display_data"
    }
   ],
   "source": [
    "toggle_cell_code('co_15')\n",
    "df4=df4.rename(columns={\"label\":\"Cluster\", \"pelvic_incidence\":\"incidencia pélvica\", \"pelvic_tilt\":\"inclinación pélvica\", \"lumbar_lordosis_angle\":\"ángulo de lordosis lumbar\", \"sacral_slope\":\"pendiente sacra\", \"pelvic_radius\":\"radio pélvico\" })"
   ]
  },
  {
   "cell_type": "markdown",
   "id": "1be042b4",
   "metadata": {},
   "source": [
    "## Resultado"
   ]
  },
  {
   "cell_type": "code",
   "execution_count": 61,
   "id": "78cfd44c-81b9-4295-872c-0de219d1e072",
   "metadata": {},
   "outputs": [
    {
     "data": {
      "text/html": [
       "\n",
       "    <button type=\"button\" id=\"co_16\" onclick=\"code_toggle('co_16')\">Codigo</button>\n",
       "    <script>\n",
       "    function code_toggle(my_id) {\n",
       "        // get the parent element for the cell code and output\n",
       "        var p = $(\"#\"+my_id);\n",
       "        if (p.length==0) return;\n",
       "        while (!p.hasClass(\"cell\")) {\n",
       "            p = p.parent();\n",
       "            if (p.prop(\"tagName\") ==\"body\") return;\n",
       "        }\n",
       "    // get the cell code and toggle its value\n",
       "    var cell_code = p.find(\".input\");\n",
       "    cell_code.toggle();\n",
       "    }\n",
       "    </script>\n",
       "    "
      ]
     },
     "metadata": {},
     "output_type": "display_data"
    },
    {
     "data": {
      "text/html": [
       "<div>\n",
       "<style scoped>\n",
       "    .dataframe tbody tr th:only-of-type {\n",
       "        vertical-align: middle;\n",
       "    }\n",
       "\n",
       "    .dataframe tbody tr th {\n",
       "        vertical-align: top;\n",
       "    }\n",
       "\n",
       "    .dataframe thead th {\n",
       "        text-align: right;\n",
       "    }\n",
       "</style>\n",
       "<table border=\"1\" class=\"dataframe\">\n",
       "  <thead>\n",
       "    <tr style=\"text-align: right;\">\n",
       "      <th></th>\n",
       "      <th>incidencia pélvica</th>\n",
       "      <th>inclinación pélvica</th>\n",
       "      <th>ángulo de lordosis lumbar</th>\n",
       "      <th>pendiente sacra</th>\n",
       "      <th>radio pélvico</th>\n",
       "    </tr>\n",
       "    <tr>\n",
       "      <th>Cluster</th>\n",
       "      <th></th>\n",
       "      <th></th>\n",
       "      <th></th>\n",
       "      <th></th>\n",
       "      <th></th>\n",
       "    </tr>\n",
       "  </thead>\n",
       "  <tbody>\n",
       "    <tr>\n",
       "      <th>Hernia</th>\n",
       "      <td>50.677028</td>\n",
       "      <td>14.754555</td>\n",
       "      <td>40.931361</td>\n",
       "      <td>35.922473</td>\n",
       "      <td>121.065144</td>\n",
       "    </tr>\n",
       "    <tr>\n",
       "      <th>Spondylolisthesis</th>\n",
       "      <td>71.385080</td>\n",
       "      <td>20.634574</td>\n",
       "      <td>64.127730</td>\n",
       "      <td>50.750507</td>\n",
       "      <td>114.433909</td>\n",
       "    </tr>\n",
       "  </tbody>\n",
       "</table>\n",
       "</div>"
      ],
      "text/plain": [
       "                   incidencia pélvica  inclinación pélvica  \\\n",
       "Cluster                                                      \n",
       "Hernia                      50.677028            14.754555   \n",
       "Spondylolisthesis           71.385080            20.634574   \n",
       "\n",
       "                   ángulo de lordosis lumbar  pendiente sacra  radio pélvico  \n",
       "Cluster                                                                       \n",
       "Hernia                             40.931361        35.922473     121.065144  \n",
       "Spondylolisthesis                  64.127730        50.750507     114.433909  "
      ]
     },
     "execution_count": 61,
     "metadata": {},
     "output_type": "execute_result"
    }
   ],
   "source": [
    "toggle_cell_code('co_16')\n",
    "df4[\"Cluster\"]=df4[\"Cluster\"].replace(0,\"Spondylolisthesis\")\n",
    "df4[\"Cluster\"]=df4[\"Cluster\"].replace(1,\"Hernia\")\n",
    "df4.groupby('Cluster').mean().sort_values(by=[\"radio pélvico\"], ascending=False)"
   ]
  },
  {
   "cell_type": "code",
   "execution_count": null,
   "id": "e8f10cc4",
   "metadata": {},
   "outputs": [],
   "source": []
  }
 ],
 "metadata": {
  "kernelspec": {
   "display_name": "Python 3",
   "language": "python",
   "name": "python3"
  },
  "language_info": {
   "codemirror_mode": {
    "name": "ipython",
    "version": 3
   },
   "file_extension": ".py",
   "mimetype": "text/x-python",
   "name": "python",
   "nbconvert_exporter": "python",
   "pygments_lexer": "ipython3",
   "version": "3.8.8"
  }
 },
 "nbformat": 4,
 "nbformat_minor": 5
}
